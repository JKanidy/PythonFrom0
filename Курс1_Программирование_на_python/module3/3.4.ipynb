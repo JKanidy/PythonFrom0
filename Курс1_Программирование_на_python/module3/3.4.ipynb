{
 "cells": [
  {
   "metadata": {},
   "cell_type": "markdown",
   "source": "1-я задача. Снова на помощь пришло разворачивание индексов, чтобы не выходить за пределы строки. Так же возникла проблема с тем, что нужно было помимо того, чтобы проверять, является ли следующий символ числом, проверять ещё и не является ли текущий символ числом. ",
   "id": "10a003178778d87"
  },
  {
   "metadata": {},
   "cell_type": "code",
   "outputs": [],
   "execution_count": null,
   "source": [
    "\n",
    "ints = ('0','1', '2', '3', '4', '5', '6', '7', '8', '9')\n",
    "word = ''\n",
    "\n",
    "with open('dataset_3363_2.txt', 'r') as file:\n",
    "    for s in file:\n",
    "        s = s.strip()\n",
    "\n",
    "        n = len(s)\n",
    "\n",
    "        for i in range(n - 1):\n",
    "            if s[i - n + 1] in ints and s[i - n + 2] in ints:\n",
    "                for j in range(int(s[i - n +1] + s[i - n + 2])):\n",
    "                    word += s[i]\n",
    "            elif s[i - n + 1] in ints and s[i-n] not in ints:\n",
    "                for j in range(int(s[i - n + 1])):\n",
    "                    word += s[i]\n",
    "\n",
    "        with open('result.txt', 'a') as file_res:\n",
    "            file_res.write(word + '\\n')\n",
    "            word = ''\n"
   ],
   "id": "68183de2cf28315b"
  },
  {
   "metadata": {},
   "cell_type": "markdown",
   "source": "2-я задача, решение далеко не из самых красивых, однако делал поэтапно и в целом полностью понял суть",
   "id": "d128d5674dc6ba54"
  },
  {
   "metadata": {},
   "cell_type": "code",
   "outputs": [],
   "execution_count": null,
   "source": [
    "with open('dataset_3363_3.txt', 'r') as file:\n",
    "    counter = {}\n",
    "    for s in file:\n",
    "        s = s.strip().lower()\n",
    "        mas = [i for i in s.split()]\n",
    "        for item in mas:\n",
    "            if item in counter:\n",
    "                counter[item] += 1\n",
    "            else:\n",
    "                counter[item] = 1\n",
    "\n",
    "maximum = 0\n",
    "winner = ''\n",
    "for key in counter:\n",
    "    if counter[key] > maximum:\n",
    "        maximum = counter[key]\n",
    "        winner = key\n",
    "    elif counter[key] == maximum:\n",
    "        if key < winner:\n",
    "            winner = key\n",
    "\n",
    "print(winner, maximum)"
   ],
   "id": "61e0cb237435f1f7"
  },
  {
   "metadata": {},
   "cell_type": "markdown",
   "source": "3-я задача, мне кажется наиболее громоздкое решение, но в целом оно работает",
   "id": "ab3538ae12558841"
  },
  {
   "metadata": {},
   "cell_type": "code",
   "outputs": [],
   "execution_count": null,
   "source": [
    "with open('dataset_3363_4.txt', 'r', encoding='utf-8') as file:\n",
    "    counter = {1: 0, 2: 0, 3: 0}\n",
    "    counter_of_strings = 0\n",
    "    for s in file:\n",
    "        s = s.strip().split(';')\n",
    "        rou = 0\n",
    "        count_in_string = 0\n",
    "        counter_of_strings += 1\n",
    "        for i in range(1, len(s)):\n",
    "            count_in_string += int(s[i])\n",
    "            counter[i] += int(s[i])\n",
    "        rou = count_in_string / 3\n",
    "        with open('result.txt', 'a') as f:\n",
    "            f.write(str(rou) + '\\n')\n",
    "    word = ''\n",
    "    for key in counter.keys():\n",
    "        word += str(counter[key] / counter_of_strings) + ' '\n",
    "    with open('result.txt', 'a') as c:\n",
    "        c.write(word)"
   ],
   "id": "42a81832d3ebe8d"
  }
 ],
 "metadata": {
  "kernelspec": {
   "display_name": "Python 3",
   "language": "python",
   "name": "python3"
  },
  "language_info": {
   "codemirror_mode": {
    "name": "ipython",
    "version": 2
   },
   "file_extension": ".py",
   "mimetype": "text/x-python",
   "name": "python",
   "nbconvert_exporter": "python",
   "pygments_lexer": "ipython2",
   "version": "2.7.6"
  }
 },
 "nbformat": 4,
 "nbformat_minor": 5
}
