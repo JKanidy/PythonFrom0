{
 "cells": [
  {
   "metadata": {},
   "cell_type": "markdown",
   "source": "1-я задача",
   "id": "d637261bf69e1c65"
  },
  {
   "metadata": {},
   "cell_type": "code",
   "outputs": [],
   "execution_count": null,
   "source": [
    "def f(x):\n",
    "    if -2 < x <= 2:\n",
    "        return -(x/2)\n",
    "    elif x <= -2:\n",
    "        return 1 - ((x + 2)**2)\n",
    "    elif 2 < x:\n",
    "        return ((x - 2)**2) + 1"
   ],
   "id": "d1ab774778968aff"
  },
  {
   "metadata": {},
   "cell_type": "markdown",
   "source": "2-я задача. Так как при удалении элемента из списка, индексы сдвигаются, то хорошим решением было создать счетчик удаленных элементов и вычитать его из текущего индекса",
   "id": "9155e7e872da51f7"
  },
  {
   "metadata": {},
   "cell_type": "code",
   "outputs": [],
   "execution_count": null,
   "source": [
    "def modify_list(l):\n",
    "    c = 0\n",
    "    for i in range(len(l)):\n",
    "        if l[i - c] % 2 == 0:\n",
    "            l[i - c] //= 2\n",
    "        else:\n",
    "            l.remove(l[i - c])\n",
    "            c += 1\n",
    "    return (l)\n"
   ],
   "id": "c8935b103e61482b"
  }
 ],
 "metadata": {
  "kernelspec": {
   "display_name": "Python 3",
   "language": "python",
   "name": "python3"
  },
  "language_info": {
   "codemirror_mode": {
    "name": "ipython",
    "version": 2
   },
   "file_extension": ".py",
   "mimetype": "text/x-python",
   "name": "python",
   "nbconvert_exporter": "python",
   "pygments_lexer": "ipython2",
   "version": "2.7.6"
  }
 },
 "nbformat": 4,
 "nbformat_minor": 5
}
