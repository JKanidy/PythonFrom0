{
 "cells": [
  {
   "metadata": {},
   "cell_type": "markdown",
   "source": "1-я задача. Не сразу догадался, что вместо append'а последнем else нужно создать список, тк значения по ключу нет",
   "id": "41099b8db3c2165b"
  },
  {
   "metadata": {},
   "cell_type": "code",
   "outputs": [],
   "execution_count": null,
   "source": [
    "def update_dictionary(d, key, value):\n",
    "    if key in d.keys():\n",
    "        d[key].append(value)\n",
    "    else:\n",
    "        if 2 * key in d.keys():\n",
    "            d[2*key].append(value)\n",
    "        else:\n",
    "            d[2*key] = [value]\n"
   ],
   "id": "fc4eecc7702bc545"
  },
  {
   "metadata": {},
   "cell_type": "markdown",
   "source": "2-я задача",
   "id": "e064689ae389cd63"
  },
  {
   "metadata": {},
   "cell_type": "code",
   "outputs": [],
   "execution_count": null,
   "source": [
    "mas = [i.lower() for i in input().split()]\n",
    "counter = {}\n",
    "\n",
    "for i in mas:\n",
    "    if i in counter.keys():\n",
    "        counter[i] += 1\n",
    "    else:\n",
    "        counter[i] = 1\n",
    "\n",
    "for key, value in counter.items():\n",
    "    print(key, value)"
   ],
   "id": "62e647febadb7d13"
  },
  {
   "metadata": {},
   "cell_type": "markdown",
   "source": "3-я задача, решил слишком громоздко. Можно было это сделать без отдельной функции.",
   "id": "c65f01e2dfe07edb"
  },
  {
   "metadata": {
    "ExecuteTime": {
     "end_time": "2025-01-28T13:30:11.288363Z",
     "start_time": "2025-01-28T13:30:11.278249Z"
    }
   },
   "cell_type": "code",
   "source": [
    "def f(x):\n",
    "    return x + 1 #просто какую-то заглушку поставил, чтобы код не был красным\n",
    "\n",
    "results  = {}\n",
    "def get_res(key):\n",
    "    if results.get(key):\n",
    "        return results[key]\n",
    "    else:\n",
    "        res = f(key)\n",
    "        results[key] = res\n",
    "        return res\n",
    "\n",
    "for i in range(int(input())):\n",
    "    print(get_res(int(input())))\n",
    "    \n",
    "# Но можно было и более лаконично, например:\n",
    "cache = {}\n",
    "\n",
    "for _ in range(int(input())):\n",
    "    x = int(input())\n",
    "    if x not in cache:\n",
    "        cache[x] = f(x)\n",
    "        \n",
    "    print(cache[x])"
   ],
   "id": "fb52bf4015b43e42",
   "outputs": [
    {
     "ename": "SyntaxError",
     "evalue": "expected ':' (3181261184.py, line 1)",
     "output_type": "error",
     "traceback": [
      "\u001B[1;36m  Cell \u001B[1;32mIn[3], line 1\u001B[1;36m\u001B[0m\n\u001B[1;33m    def f(x)\u001B[0m\n\u001B[1;37m            ^\u001B[0m\n\u001B[1;31mSyntaxError\u001B[0m\u001B[1;31m:\u001B[0m expected ':'\n"
     ]
    }
   ],
   "execution_count": 3
  },
  {
   "metadata": {},
   "cell_type": "code",
   "outputs": [],
   "execution_count": null,
   "source": "",
   "id": "c0b0f675e1282ae"
  }
 ],
 "metadata": {
  "kernelspec": {
   "display_name": "Python 3",
   "language": "python",
   "name": "python3"
  },
  "language_info": {
   "codemirror_mode": {
    "name": "ipython",
    "version": 2
   },
   "file_extension": ".py",
   "mimetype": "text/x-python",
   "name": "python",
   "nbconvert_exporter": "python",
   "pygments_lexer": "ipython2",
   "version": "2.7.6"
  }
 },
 "nbformat": 4,
 "nbformat_minor": 5
}
