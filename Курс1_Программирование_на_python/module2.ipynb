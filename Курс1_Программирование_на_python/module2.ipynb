{
 "cells": [
  {
   "metadata": {},
   "cell_type": "markdown",
   "source": "2.1 Задача про нахождение НОД, реализовал максимально тупое решение",
   "id": "985b93e2a12d1899"
  },
  {
   "metadata": {},
   "cell_type": "code",
   "outputs": [],
   "execution_count": null,
   "source": [
    "a = int(input())\n",
    "b = int(input())\n",
    "i = 1\n",
    "\n",
    "while i <= (a * b) and i != 0:\n",
    "    if i % a == 0 and i % b == 0:\n",
    "        print(i)\n",
    "        i = 0\n",
    "    else:\n",
    "        i += 1"
   ],
   "id": "19c3d5371ebff7c4"
  },
  {
   "metadata": {},
   "cell_type": "markdown",
   "source": "2.2 Задача",
   "id": "41c5e06a1ad81f32"
  },
  {
   "metadata": {},
   "cell_type": "code",
   "outputs": [],
   "execution_count": null,
   "source": [
    "while True:\n",
    "    i = int(input())\n",
    "    if i < 10:\n",
    "        continue\n",
    "    if i > 100:\n",
    "        break\n",
    "    print(i)"
   ],
   "id": "9a120bd1c06c4b5e"
  },
  {
   "metadata": {},
   "cell_type": "markdown",
   "source": "2.3 Задача 2",
   "id": "c6511f66be8a5fde"
  },
  {
   "metadata": {},
   "cell_type": "code",
   "outputs": [],
   "execution_count": null,
   "source": [
    "a = int(input())\n",
    "b = int(input())\n",
    "\n",
    "c = 0\n",
    "sum = 0\n",
    "\n",
    "for i in range(a, b+1):\n",
    "    if i % 3 == 0:\n",
    "        c += 1\n",
    "        sum += i\n",
    "\n",
    "print(sum / c)"
   ],
   "id": "ce448e7a3a6e4743"
  },
  {
   "metadata": {},
   "cell_type": "markdown",
   "source": "2.4 Задача про CG состав",
   "id": "fce5bb675f98ed38"
  },
  {
   "metadata": {},
   "cell_type": "code",
   "outputs": [],
   "execution_count": null,
   "source": [
    "genom = input().lower()\n",
    "c = 0\n",
    "\n",
    "for s in genom:\n",
    "    if s == \"c\" or s == \"g\":\n",
    "        c += 1\n",
    "\n",
    "print((c / len(genom)) * 100)"
   ],
   "id": "6e7f07d96e82b1e5"
  },
  {
   "metadata": {},
   "cell_type": "markdown",
   "source": "2.4 Задача про ДНК",
   "id": "9beca62444fde844"
  },
  {
   "metadata": {},
   "cell_type": "code",
   "outputs": [],
   "execution_count": null,
   "source": [
    "s = input()\n",
    "i = 0\n",
    "c = 1\n",
    "\n",
    "if len(s) == 1:\n",
    "    print(s, c, sep=\"\")\n",
    "\n",
    "while i < len(s) - 1:\n",
    "    if s[i] == s[i+1]:\n",
    "        c += 1\n",
    "        if (len(s) - 1) - i == 1:\n",
    "            print(s[i], c, sep=\"\", end=\"\")\n",
    "    else:\n",
    "        print(s[i], c, sep=\"\", end=\"\")\n",
    "        c = 1\n",
    "        if (len(s) - 1) - i == 1:\n",
    "            print(s[i+1], c, sep=\"\", end=\"\")\n",
    "    i += 1"
   ],
   "id": "fcaf4d21f3850df3"
  },
  {
   "metadata": {},
   "cell_type": "markdown",
   "source": "2.5 Задача 1",
   "id": "fd8299547e46c3c9"
  },
  {
   "metadata": {},
   "cell_type": "code",
   "outputs": [],
   "execution_count": null,
   "source": [
    "a = [int(i) for i in input().split()]\n",
    "s = 0\n",
    "for num in a:\n",
    "    s += num\n",
    "print(s)"
   ],
   "id": "4dc8c76ce97757e4"
  },
  {
   "metadata": {},
   "cell_type": "markdown",
   "source": "2.5 Задача 2, решение ДАЛЕКО НЕ самое лаконичное",
   "id": "859cc1bf62d69ca0"
  },
  {
   "metadata": {},
   "cell_type": "code",
   "outputs": [],
   "execution_count": null,
   "source": [
    "a = [int(i) for i in input().split()]\n",
    "new = [0] * len(a)\n",
    "\n",
    "for i in range(len(a)):\n",
    "    if len(a) == 1:\n",
    "        print(a[0])\n",
    "    elif i == 0:\n",
    "        new[0] = a[-1] + a[i + 1]\n",
    "    elif i == len(a) - 1:\n",
    "        new[-1] = a[-2] + a[0]\n",
    "    else:\n",
    "        new[i] = a[i+1] + a[i-1]\n",
    "\n",
    "if len(a) != 1:\n",
    "    for item in new:\n",
    "        print(item, end=' ')"
   ],
   "id": "397420a0717694b"
  },
  {
   "metadata": {},
   "cell_type": "markdown",
   "source": "2.5  Задача 3",
   "id": "af514109163b3d75"
  },
  {
   "metadata": {},
   "cell_type": "markdown",
   "source": "",
   "id": "652cfb48a8f70436"
  },
  {
   "metadata": {},
   "cell_type": "code",
   "outputs": [],
   "execution_count": null,
   "source": [
    "a = [int(i) for i in input().split()]\n",
    "\n",
    "new = sorted(a)\n",
    "res = []\n",
    "\n",
    "\n",
    "for i in range(len(new)):\n",
    "    for j in range(i+1, len(new)):\n",
    "        if new[i] == new[j]:\n",
    "            if new[j] not in res:\n",
    "                res.append(new[j])\n",
    "\n",
    "for item in res:\n",
    "    print(item, end=' ')"
   ],
   "id": "72fa89de812110af"
  },
  {
   "metadata": {},
   "cell_type": "markdown",
   "source": "2.6 Задача 1",
   "id": "2e43c553f0a170a0"
  },
  {
   "metadata": {},
   "cell_type": "code",
   "outputs": [],
   "execution_count": null,
   "source": [
    "summa = 0\n",
    "res = []\n",
    "while True:\n",
    "    n = int(input())\n",
    "    summa += n\n",
    "    res.append(n**2)\n",
    "    if summa == 0:\n",
    "        print(sum(res))\n",
    "        break"
   ],
   "id": "d0238755c4689896"
  },
  {
   "metadata": {},
   "cell_type": "markdown",
   "source": "2.6 Задача 2",
   "id": "9c81eabe5d79305"
  },
  {
   "metadata": {},
   "cell_type": "code",
   "outputs": [],
   "execution_count": null,
   "source": [
    "n = int(input())\n",
    "num = 1\n",
    "count = 0\n",
    "res = []\n",
    "\n",
    "while count < n:\n",
    "    for i in range(num):\n",
    "        if count >= n:\n",
    "            continue\n",
    "        else:\n",
    "            print(num, end=' ')\n",
    "            res.append(num)\n",
    "            count += 1\n",
    "    num += 1"
   ],
   "id": "9da8826de4dd320"
  },
  {
   "metadata": {},
   "cell_type": "markdown",
   "source": "2.6 Задача 3",
   "id": "836dc702874240c5"
  },
  {
   "metadata": {},
   "cell_type": "code",
   "outputs": [],
   "execution_count": null,
   "source": [
    "lst = input().split()\n",
    "x = input()\n",
    "res = []\n",
    "\n",
    "for i in range(len(lst)):\n",
    "    if lst[i] == x:\n",
    "        res.append(i)\n",
    "if len(res) == 0:\n",
    "    print('Отсутствует')\n",
    "else:        \n",
    "    for j in res:\n",
    "        print(j, end=' ')"
   ],
   "id": "9cfc70c9ebb39fb2"
  },
  {
   "metadata": {},
   "cell_type": "markdown",
   "source": "2.6 Задача 4. Наиболее интересная задача. Тут по условию необходимо \"зациклить массив\", тоесть если len(a) = 4, i в какой-то момент становится i = 4, а нам нужно прибавить i + 1, то мы просто пересечём верхнюю границу и получим index out of range. Во избежание подобной ситуации я \"развернул\" индексы элементов массива, сначала отнимая от них длину массива. Только после этого можно было инкрементировать индекс.  ",
   "id": "486a3392baf645c0"
  },
  {
   "metadata": {},
   "cell_type": "code",
   "outputs": [],
   "execution_count": null,
   "source": [
    "a = []\n",
    "inp =input()\n",
    "while inp != \"end\":\n",
    "    mas = [int(i) for i in inp.split()]\n",
    "    a.append(mas)\n",
    "    inp = input()\n",
    "\n",
    "n = len(a)\n",
    "m = len(a[0])\n",
    "res = [[0 for i in range(m)] for j in range(n)]\n",
    "\n",
    "for i in range(n):\n",
    "    for j in range(m):\n",
    "        res[i][j] = a[i-1][j] + a[i-n+1][j] + a[i][j-1] + a[i][j-m+1]\n",
    "\n",
    "for s in res:\n",
    "    for c in s:\n",
    "        print(c, end=' ')\n",
    "    print()"
   ],
   "id": "cf62ec68fd6c2977"
  }
 ],
 "metadata": {
  "kernelspec": {
   "display_name": "Python 3",
   "language": "python",
   "name": "python3"
  },
  "language_info": {
   "codemirror_mode": {
    "name": "ipython",
    "version": 2
   },
   "file_extension": ".py",
   "mimetype": "text/x-python",
   "name": "python",
   "nbconvert_exporter": "python",
   "pygments_lexer": "ipython2",
   "version": "2.7.6"
  }
 },
 "nbformat": 4,
 "nbformat_minor": 5
}
