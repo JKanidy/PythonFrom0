{
 "cells": [
  {
   "metadata": {},
   "cell_type": "markdown",
   "source": "Пробую сделать так, чтобы нельзя было снова ввести 0 (по приколу)",
   "id": "bb3e0d5cf553bdbc"
  },
  {
   "metadata": {},
   "cell_type": "code",
   "outputs": [],
   "execution_count": null,
   "source": [
    "def division(a, b):\n",
    "    return a / b\n",
    "\n",
    "\n",
    "def start():\n",
    "    a = int(input(\"Введите первое число: \"))\n",
    "    b = int(input(\"Введите второе число: \"))\n",
    "    if b != 0:\n",
    "        print(division(a, b))   \n",
    "    else:\n",
    "        print(\"Ошибка! Возможно вы ввели нулевое число...\")\n",
    "        start()\n",
    "\n",
    "start()    \n",
    "    \n",
    "    \n",
    "    "
   ],
   "id": "688da5a6b17a4e44"
  },
  {
   "metadata": {},
   "cell_type": "markdown",
   "source": "1.10 Задача про недосып и пересып",
   "id": "f09b29aed7786afb"
  },
  {
   "metadata": {
    "ExecuteTime": {
     "end_time": "2024-12-10T08:37:08.081567Z",
     "start_time": "2024-12-10T08:37:00.009876Z"
    }
   },
   "cell_type": "code",
   "source": [
    "a = int(input())\n",
    "b = int(input())\n",
    "h = int(input())\n",
    "\n",
    "if a <= h <= b:\n",
    "    print(\"Это нормально\")\n",
    "elif h < a:\n",
    "    print(\"Недосып\")\n",
    "elif h > b:\n",
    "    print(\"Пересып\")\n"
   ],
   "id": "f1bdc4fa729fa470",
   "outputs": [
    {
     "name": "stdout",
     "output_type": "stream",
     "text": [
      "Это нормально\n"
     ]
    }
   ],
   "execution_count": 9
  },
  {
   "metadata": {},
   "cell_type": "markdown",
   "source": "1.10 Задача про високосный год",
   "id": "19e826c0fb1cd29b"
  },
  {
   "metadata": {},
   "cell_type": "code",
   "outputs": [],
   "execution_count": null,
   "source": [
    "year = int(input())\n",
    "\n",
    "if (year % 4 == 0 and year % 100 != 0) or (year % 400 == 0):\n",
    "    print(\"Високосный\")\n",
    "else:\n",
    "    print(\"Обычный\")"
   ],
   "id": "74cc27674b0f2167"
  },
  {
   "metadata": {},
   "cell_type": "markdown",
   "source": "1.12 Решение задачи про формулу Герона ",
   "id": "3637802de6464183"
  },
  {
   "metadata": {
    "ExecuteTime": {
     "end_time": "2024-12-10T09:04:35.780064Z",
     "start_time": "2024-12-10T09:04:32.243738Z"
    }
   },
   "cell_type": "code",
   "source": [
    "a = int(input())\n",
    "b = int(input())\n",
    "c = int(input())\n",
    "\n",
    "p = (a + b + c) / 2\n",
    "\n",
    "s = (p * (p - a)*(p - b)*(p - c))**0.5\n",
    "\n",
    "print(s)"
   ],
   "id": "8a95d53a021de4ab",
   "outputs": [
    {
     "name": "stdout",
     "output_type": "stream",
     "text": [
      "6.0\n"
     ]
    }
   ],
   "execution_count": 10
  },
  {
   "metadata": {},
   "cell_type": "markdown",
   "source": "1.12 Задача 2",
   "id": "d0890d843ad05373"
  },
  {
   "metadata": {
    "ExecuteTime": {
     "end_time": "2024-12-10T09:08:36.174608Z",
     "start_time": "2024-12-10T09:08:34.254089Z"
    }
   },
   "cell_type": "code",
   "source": [
    "a = int(input())\n",
    "\n",
    "if -15 < a <= 12 or 14 < a < 17 or a >= 19:\n",
    "    print(True)\n",
    "else:\n",
    "    print(False)"
   ],
   "id": "6d533a144bb5dd3a",
   "outputs": [
    {
     "name": "stdout",
     "output_type": "stream",
     "text": [
      "False\n"
     ]
    }
   ],
   "execution_count": 12
  },
  {
   "metadata": {},
   "cell_type": "markdown",
   "source": "1.12 Калькулятор",
   "id": "c333e123cc851e6d"
  },
  {
   "metadata": {},
   "cell_type": "code",
   "outputs": [],
   "execution_count": null,
   "source": [
    "\n",
    "a = float(input())\n",
    "b = float(input())\n",
    "op = input()\n",
    "\n",
    "if op == \"mod\":\n",
    "    if b != 0:\n",
    "        print(a % b)\n",
    "    else:\n",
    "        print(\"Деление на 0!\")\n",
    "\n",
    "elif op == \"pow\":\n",
    "    print(a ** b)\n",
    "\n",
    "elif op == \"div\":\n",
    "    if b != 0:\n",
    "        print(a // b)\n",
    "    else:\n",
    "        print(\"Деление на 0!\")\n",
    "\n",
    "elif op == \"+\":\n",
    "    print(a + b)\n",
    "\n",
    "elif op == \"-\":\n",
    "    print(a - b)\n",
    "\n",
    "elif op == \"/\":\n",
    "    if b != 0:\n",
    "        print(a / 0)\n",
    "    else:\n",
    "        print(\"Деление на 0!\")\n",
    "\n",
    "elif op == \"*\":\n",
    "    print(a * b)\n"
   ],
   "id": "300fa2ec266264ca"
  },
  {
   "metadata": {},
   "cell_type": "markdown",
   "source": "1.12 Калькулятор площади",
   "id": "f2158e865fb2b25b"
  },
  {
   "metadata": {},
   "cell_type": "code",
   "outputs": [],
   "execution_count": null,
   "source": [
    "figure = input()\n",
    "if figure == \"треугольник\":\n",
    "    a = int(input())\n",
    "    b = int(input())\n",
    "    c = int(input())\n",
    "\n",
    "    p = (a + b + c) / 2\n",
    "    s = (p * (p - a) * (p - b) * (p - c)) ** 0.5\n",
    "\n",
    "    print(s)\n",
    "\n",
    "elif figure == \"прямоугольник\":\n",
    "    a = int(input())\n",
    "    b = int(input())\n",
    "    print(a * b)\n",
    "\n",
    "elif figure == \"круг\":\n",
    "    r = int(input())\n",
    "    print(3.14 * (r**2))"
   ],
   "id": "d1592036f6ccbac5"
  },
  {
   "metadata": {},
   "cell_type": "markdown",
   "source": "1.12 Задача вывода трёх чисел",
   "id": "4d94afeb43bf8442"
  },
  {
   "metadata": {},
   "cell_type": "code",
   "outputs": [],
   "execution_count": null,
   "source": [
    "    a = int(input())\n",
    "    b = int(input())\n",
    "    c = int(input())\n",
    "\n",
    "    def printing(max, min, dif):\n",
    "        print(max)\n",
    "        print(min)\n",
    "        print(dif)\n",
    "\n",
    "    if a >= b and a >= c:\n",
    "        if b <= c:\n",
    "            printing(a, b, c)\n",
    "        elif c <= b:\n",
    "            printing(a, c, b)\n",
    "\n",
    "    elif b >= a and b >= c:\n",
    "        if c <= a:\n",
    "            printing(b, c, a)\n",
    "        elif a <= c:\n",
    "            printing(b, a, c)\n",
    "\n",
    "    elif c >= a and c >= b:\n",
    "        if a <= b:\n",
    "            printing(c, a, b)\n",
    "        elif b <= a:\n",
    "            printing(c, b, a)\n"
   ],
   "id": "8244895c92e8e18d"
  }
 ],
 "metadata": {
  "kernelspec": {
   "display_name": "Python 3",
   "language": "python",
   "name": "python3"
  },
  "language_info": {
   "codemirror_mode": {
    "name": "ipython",
    "version": 2
   },
   "file_extension": ".py",
   "mimetype": "text/x-python",
   "name": "python",
   "nbconvert_exporter": "python",
   "pygments_lexer": "ipython2",
   "version": "2.7.6"
  }
 },
 "nbformat": 4,
 "nbformat_minor": 5
}
