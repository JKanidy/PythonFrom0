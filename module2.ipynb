{
 "cells": [
  {
   "metadata": {},
   "cell_type": "markdown",
   "source": "2.1 Задача про нахождение НОД, реализовал максимально тупое решение",
   "id": "985b93e2a12d1899"
  },
  {
   "metadata": {},
   "cell_type": "code",
   "outputs": [],
   "execution_count": null,
   "source": [
    "a = int(input())\n",
    "b = int(input())\n",
    "i = 1\n",
    "\n",
    "while i <= (a * b) and i != 0:\n",
    "    if i % a == 0 and i % b == 0:\n",
    "        print(i)\n",
    "        i = 0\n",
    "    else:\n",
    "        i += 1"
   ],
   "id": "19c3d5371ebff7c4"
  }
 ],
 "metadata": {
  "kernelspec": {
   "display_name": "Python 3",
   "language": "python",
   "name": "python3"
  },
  "language_info": {
   "codemirror_mode": {
    "name": "ipython",
    "version": 2
   },
   "file_extension": ".py",
   "mimetype": "text/x-python",
   "name": "python",
   "nbconvert_exporter": "python",
   "pygments_lexer": "ipython2",
   "version": "2.7.6"
  }
 },
 "nbformat": 4,
 "nbformat_minor": 5
}
