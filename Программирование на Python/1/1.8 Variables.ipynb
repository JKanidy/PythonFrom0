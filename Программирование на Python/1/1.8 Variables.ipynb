{
 "cells": [
  {
   "cell_type": "code",
   "id": "initial_id",
   "metadata": {
    "collapsed": true,
    "ExecuteTime": {
     "end_time": "2024-12-05T18:18:22.035647Z",
     "start_time": "2024-12-05T18:18:22.023204Z"
    }
   },
   "source": [
    "a = 2\n",
    "b = 3\n",
    "print(a + b)\n",
    "a = 6\n",
    "b = b + 2\n",
    "print(a + b)\n",
    "print(c)"
   ],
   "outputs": [
    {
     "name": "stdout",
     "output_type": "stream",
     "text": [
      "5\n",
      "11\n"
     ]
    },
    {
     "ename": "NameError",
     "evalue": "name 'c' is not defined",
     "output_type": "error",
     "traceback": [
      "\u001B[1;31m---------------------------------------------------------------------------\u001B[0m",
      "\u001B[1;31mNameError\u001B[0m                                 Traceback (most recent call last)",
      "Cell \u001B[1;32mIn[12], line 7\u001B[0m\n\u001B[0;32m      5\u001B[0m b \u001B[38;5;241m=\u001B[39m b \u001B[38;5;241m+\u001B[39m \u001B[38;5;241m2\u001B[39m\n\u001B[0;32m      6\u001B[0m \u001B[38;5;28mprint\u001B[39m(a \u001B[38;5;241m+\u001B[39m b)\n\u001B[1;32m----> 7\u001B[0m \u001B[38;5;28mprint\u001B[39m(\u001B[43mc\u001B[49m)\n",
      "\u001B[1;31mNameError\u001B[0m: name 'c' is not defined"
     ]
    }
   ],
   "execution_count": 12
  },
  {
   "metadata": {},
   "cell_type": "markdown",
   "source": "# Можно переписывать значение переменной, а также нельзя принтить необъявленную переменную",
   "id": "89e2b111289181b2"
  },
  {
   "metadata": {
    "ExecuteTime": {
     "end_time": "2024-12-05T18:18:23.099261Z",
     "start_time": "2024-12-05T18:18:23.095306Z"
    }
   },
   "cell_type": "code",
   "source": [
    "a += 3\n",
    "a = a + 3\n",
    "print(a)"
   ],
   "id": "461282561ca36dc1",
   "outputs": [
    {
     "name": "stdout",
     "output_type": "stream",
     "text": [
      "12\n"
     ]
    }
   ],
   "execution_count": 13
  },
  {
   "metadata": {},
   "cell_type": "markdown",
   "source": "# Увеличить значение на 3. Это работает почти со всеми операциями.",
   "id": "7a285616fc4e3f2a"
  },
  {
   "metadata": {
    "ExecuteTime": {
     "end_time": "2024-12-05T18:18:49.363144Z",
     "start_time": "2024-12-05T18:18:49.359701Z"
    }
   },
   "cell_type": "code",
   "source": [
    "a = 1\n",
    "print(type(a))\n",
    "a = \"a\"\n",
    "print(type(a))"
   ],
   "id": "5c423865cd145d28",
   "outputs": [
    {
     "name": "stdout",
     "output_type": "stream",
     "text": [
      "<class 'int'>\n",
      "<class 'str'>\n"
     ]
    }
   ],
   "execution_count": 14
  },
  {
   "metadata": {},
   "cell_type": "markdown",
   "source": "# В питоне динамическая типизация, из-за чего переменная может менять свой тип данных по ходу выполнения программы",
   "id": "7d0c0bea8e091040"
  },
  {
   "metadata": {
    "ExecuteTime": {
     "end_time": "2024-12-05T18:19:33.639937Z",
     "start_time": "2024-12-05T18:19:32.045241Z"
    }
   },
   "cell_type": "code",
   "source": [
    "X = int(input())\n",
    "print(X//60)\n",
    "print(X%60)"
   ],
   "id": "a84a8ca84bc80658",
   "outputs": [
    {
     "ename": "ValueError",
     "evalue": "invalid literal for int() with base 10: ''",
     "output_type": "error",
     "traceback": [
      "\u001B[1;31m---------------------------------------------------------------------------\u001B[0m",
      "\u001B[1;31mValueError\u001B[0m                                Traceback (most recent call last)",
      "Cell \u001B[1;32mIn[15], line 1\u001B[0m\n\u001B[1;32m----> 1\u001B[0m X \u001B[38;5;241m=\u001B[39m \u001B[38;5;28;43mint\u001B[39;49m\u001B[43m(\u001B[49m\u001B[38;5;28;43minput\u001B[39;49m\u001B[43m(\u001B[49m\u001B[43m)\u001B[49m\u001B[43m)\u001B[49m\n\u001B[0;32m      2\u001B[0m \u001B[38;5;28mprint\u001B[39m(X\u001B[38;5;241m/\u001B[39m\u001B[38;5;241m/\u001B[39m\u001B[38;5;241m60\u001B[39m)\n\u001B[0;32m      3\u001B[0m \u001B[38;5;28mprint\u001B[39m(X\u001B[38;5;241m%\u001B[39m\u001B[38;5;241m60\u001B[39m)\n",
      "\u001B[1;31mValueError\u001B[0m: invalid literal for int() with base 10: ''"
     ]
    }
   ],
   "execution_count": 15
  },
  {
   "metadata": {
    "ExecuteTime": {
     "end_time": "2024-12-05T18:19:57.412825Z",
     "start_time": "2024-12-05T18:19:56.723495Z"
    }
   },
   "cell_type": "code",
   "source": [
    "X = int(input())\n",
    "H = int(input())\n",
    "M = int(input())\n",
    "print((X+(60*H+M))//60)\n",
    "print((X+(60*H+M))%60)"
   ],
   "id": "cdb989a89bad0b8f",
   "outputs": [
    {
     "ename": "ValueError",
     "evalue": "invalid literal for int() with base 10: ''",
     "output_type": "error",
     "traceback": [
      "\u001B[1;31m---------------------------------------------------------------------------\u001B[0m",
      "\u001B[1;31mValueError\u001B[0m                                Traceback (most recent call last)",
      "Cell \u001B[1;32mIn[16], line 1\u001B[0m\n\u001B[1;32m----> 1\u001B[0m X \u001B[38;5;241m=\u001B[39m \u001B[38;5;28;43mint\u001B[39;49m\u001B[43m(\u001B[49m\u001B[38;5;28;43minput\u001B[39;49m\u001B[43m(\u001B[49m\u001B[43m)\u001B[49m\u001B[43m)\u001B[49m\n\u001B[0;32m      2\u001B[0m H \u001B[38;5;241m=\u001B[39m \u001B[38;5;28mint\u001B[39m(\u001B[38;5;28minput\u001B[39m())\n\u001B[0;32m      3\u001B[0m M \u001B[38;5;241m=\u001B[39m \u001B[38;5;28mint\u001B[39m(\u001B[38;5;28minput\u001B[39m())\n",
      "\u001B[1;31mValueError\u001B[0m: invalid literal for int() with base 10: ''"
     ]
    }
   ],
   "execution_count": 16
  }
 ],
 "metadata": {
  "kernelspec": {
   "display_name": "Python 3",
   "language": "python",
   "name": "python3"
  },
  "language_info": {
   "codemirror_mode": {
    "name": "ipython",
    "version": 2
   },
   "file_extension": ".py",
   "mimetype": "text/x-python",
   "name": "python",
   "nbconvert_exporter": "python",
   "pygments_lexer": "ipython2",
   "version": "2.7.6"
  }
 },
 "nbformat": 4,
 "nbformat_minor": 5
}
