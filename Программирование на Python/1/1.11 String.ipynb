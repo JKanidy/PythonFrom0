{
 "cells": [
  {
   "cell_type": "code",
   "id": "initial_id",
   "metadata": {
    "collapsed": true,
    "ExecuteTime": {
     "end_time": "2024-12-08T16:45:36.197949Z",
     "start_time": "2024-12-08T16:45:36.193900Z"
    }
   },
   "source": "'abc' + 'abc'",
   "outputs": [
    {
     "data": {
      "text/plain": [
       "'abcabc'"
      ]
     },
     "execution_count": 3,
     "metadata": {},
     "output_type": "execute_result"
    }
   ],
   "execution_count": 3
  },
  {
   "metadata": {
    "ExecuteTime": {
     "end_time": "2024-12-08T16:45:46.548909Z",
     "start_time": "2024-12-08T16:45:46.544711Z"
    }
   },
   "cell_type": "code",
   "source": "'abc' * 3",
   "id": "8c69e63ef0565bb9",
   "outputs": [
    {
     "data": {
      "text/plain": [
       "'abcabcabc'"
      ]
     },
     "execution_count": 4,
     "metadata": {},
     "output_type": "execute_result"
    }
   ],
   "execution_count": 4
  },
  {
   "metadata": {
    "ExecuteTime": {
     "end_time": "2024-12-08T16:46:01.716851Z",
     "start_time": "2024-12-08T16:46:01.712940Z"
    }
   },
   "cell_type": "code",
   "source": "len('abc')",
   "id": "b2245939070e4f17",
   "outputs": [
    {
     "data": {
      "text/plain": [
       "3"
      ]
     },
     "execution_count": 5,
     "metadata": {},
     "output_type": "execute_result"
    }
   ],
   "execution_count": 5
  },
  {
   "metadata": {},
   "cell_type": "markdown",
   "source": "# Len возвращает количество символов",
   "id": "c446422297e9f0d4"
  },
  {
   "metadata": {
    "ExecuteTime": {
     "end_time": "2024-12-08T16:46:40.421312Z",
     "start_time": "2024-12-08T16:46:40.417297Z"
    }
   },
   "cell_type": "code",
   "source": "'abc' > 'ab'",
   "id": "c22630d07c1bfe2d",
   "outputs": [
    {
     "data": {
      "text/plain": [
       "True"
      ]
     },
     "execution_count": 6,
     "metadata": {},
     "output_type": "execute_result"
    }
   ],
   "execution_count": 6
  },
  {
   "metadata": {},
   "cell_type": "markdown",
   "source": "# Строки можно сравнивать",
   "id": "79b35ca4dead27ed"
  },
  {
   "metadata": {
    "ExecuteTime": {
     "end_time": "2024-12-08T16:48:46.458249Z",
     "start_time": "2024-12-08T16:48:46.453909Z"
    }
   },
   "cell_type": "code",
   "source": "print('first line', '\\n', 'second line')",
   "id": "78db8e747b8a7bf",
   "outputs": [
    {
     "name": "stdout",
     "output_type": "stream",
     "text": [
      "first line \n",
      " second line\n"
     ]
    }
   ],
   "execution_count": 9
  },
  {
   "metadata": {},
   "cell_type": "markdown",
   "source": "# \\n переводит на новую строку",
   "id": "eed9602f4a954a3a"
  },
  {
   "metadata": {
    "ExecuteTime": {
     "end_time": "2024-12-08T16:52:32.033010Z",
     "start_time": "2024-12-08T16:52:32.026238Z"
    }
   },
   "cell_type": "code",
   "source": "\"239\" < \"30\" and 239 < 30",
   "id": "68966d6705111ac6",
   "outputs": [
    {
     "data": {
      "text/plain": [
       "False"
      ]
     },
     "execution_count": 22,
     "metadata": {},
     "output_type": "execute_result"
    }
   ],
   "execution_count": 22
  },
  {
   "metadata": {
    "ExecuteTime": {
     "end_time": "2024-12-08T16:52:54.201514Z",
     "start_time": "2024-12-08T16:52:54.197491Z"
    }
   },
   "cell_type": "code",
   "source": "\"239\" < \"30\" and 239 > 30",
   "id": "491b1e92f8766d72",
   "outputs": [
    {
     "data": {
      "text/plain": [
       "True"
      ]
     },
     "execution_count": 23,
     "metadata": {},
     "output_type": "execute_result"
    }
   ],
   "execution_count": 23
  },
  {
   "metadata": {
    "ExecuteTime": {
     "end_time": "2024-12-08T16:52:55.257414Z",
     "start_time": "2024-12-08T16:52:55.253131Z"
    }
   },
   "cell_type": "code",
   "source": "\"239\" > \"30\" and 239 < 30",
   "id": "96fd5c0e2f40133e",
   "outputs": [
    {
     "data": {
      "text/plain": [
       "False"
      ]
     },
     "execution_count": 24,
     "metadata": {},
     "output_type": "execute_result"
    }
   ],
   "execution_count": 24
  },
  {
   "metadata": {
    "ExecuteTime": {
     "end_time": "2024-12-08T16:52:56.733052Z",
     "start_time": "2024-12-08T16:52:56.728342Z"
    }
   },
   "cell_type": "code",
   "source": "\"239\" > \"30\" and 239 > 30",
   "id": "26873f0922f5904",
   "outputs": [
    {
     "data": {
      "text/plain": [
       "False"
      ]
     },
     "execution_count": 25,
     "metadata": {},
     "output_type": "execute_result"
    }
   ],
   "execution_count": 25
  },
  {
   "metadata": {
    "ExecuteTime": {
     "end_time": "2024-12-08T16:55:33.709434Z",
     "start_time": "2024-12-08T16:55:33.705862Z"
    }
   },
   "cell_type": "code",
   "source": "\"123\" + \"42\"",
   "id": "b61ec9cf83486c36",
   "outputs": [
    {
     "data": {
      "text/plain": [
       "'12342'"
      ]
     },
     "execution_count": 26,
     "metadata": {},
     "output_type": "execute_result"
    }
   ],
   "execution_count": 26
  }
 ],
 "metadata": {
  "kernelspec": {
   "display_name": "Python 3",
   "language": "python",
   "name": "python3"
  },
  "language_info": {
   "codemirror_mode": {
    "name": "ipython",
    "version": 2
   },
   "file_extension": ".py",
   "mimetype": "text/x-python",
   "name": "python",
   "nbconvert_exporter": "python",
   "pygments_lexer": "ipython2",
   "version": "2.7.6"
  }
 },
 "nbformat": 4,
 "nbformat_minor": 5
}
