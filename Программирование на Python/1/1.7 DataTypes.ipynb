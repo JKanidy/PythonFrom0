{
 "cells": [
  {
   "metadata": {},
   "cell_type": "markdown",
   "source": [
    "# int - числовое значение\n",
    "# float - значение с плавающей точкой\n",
    "# bool - логическое значение\n",
    "# str - строки"
   ],
   "id": "95f364cae12d43c3"
  },
  {
   "cell_type": "code",
   "execution_count": null,
   "id": "initial_id",
   "metadata": {
    "collapsed": true
   },
   "outputs": [],
   "source": [
    "print(int(2.3))\n",
    "print(float(2))\n",
    "print(int(2.99))\n",
    "print(int(-1.6))"
   ]
  },
  {
   "metadata": {},
   "cell_type": "markdown",
   "source": [
    "# Можно насильно преобразовывать объекты\n",
    "# int(x), float(x)"
   ],
   "id": "f31d64a644a10589"
  },
  {
   "metadata": {
    "ExecuteTime": {
     "end_time": "2024-12-05T18:13:57.145224Z",
     "start_time": "2024-12-05T18:13:57.140888Z"
    }
   },
   "cell_type": "code",
   "source": "print(9**19 - int(float(9**19)))",
   "id": "86067dd3d3ec9b67",
   "outputs": [
    {
     "name": "stdout",
     "output_type": "stream",
     "text": [
      "89\n"
     ]
    }
   ],
   "execution_count": 1
  },
  {
   "metadata": {},
   "cell_type": "markdown",
   "source": "",
   "id": "3beccf74dca673e8"
  },
  {
   "metadata": {},
   "cell_type": "markdown",
   "source": "# Число получается ненулевое из-за различия хранения большого числа в формате int и float",
   "id": "9db1e4600585ad48"
  },
  {
   "metadata": {
    "ExecuteTime": {
     "end_time": "2024-12-05T18:15:06.849450Z",
     "start_time": "2024-12-05T18:15:06.845670Z"
    }
   },
   "cell_type": "code",
   "source": "print(type(1))",
   "id": "37396b5bca7d026d",
   "outputs": [
    {
     "name": "stdout",
     "output_type": "stream",
     "text": [
      "<class 'int'>\n"
     ]
    }
   ],
   "execution_count": 2
  },
  {
   "metadata": {},
   "cell_type": "markdown",
   "source": "",
   "id": "f663536d35f6dce7"
  },
  {
   "metadata": {},
   "cell_type": "markdown",
   "source": "# Значение объекта можно узнать с помощью type",
   "id": "3e9112f52c70ab8e"
  }
 ],
 "metadata": {
  "kernelspec": {
   "display_name": "Python 3",
   "language": "python",
   "name": "python3"
  },
  "language_info": {
   "codemirror_mode": {
    "name": "ipython",
    "version": 2
   },
   "file_extension": ".py",
   "mimetype": "text/x-python",
   "name": "python",
   "nbconvert_exporter": "python",
   "pygments_lexer": "ipython2",
   "version": "2.7.6"
  }
 },
 "nbformat": 4,
 "nbformat_minor": 5
}
