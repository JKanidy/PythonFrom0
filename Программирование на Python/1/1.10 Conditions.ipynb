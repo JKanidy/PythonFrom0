{
 "cells": [
  {
   "cell_type": "code",
   "id": "initial_id",
   "metadata": {
    "collapsed": true,
    "ExecuteTime": {
     "end_time": "2024-12-08T11:06:19.682271Z",
     "start_time": "2024-12-08T11:06:18.652200Z"
    }
   },
   "source": [
    "x = int(input())\n",
    "if x % 2 == 0:\n",
    "    print(\"chet\")\n",
    "else:\n",
    "    print(\"nechet\")"
   ],
   "outputs": [
    {
     "name": "stdout",
     "output_type": "stream",
     "text": [
      "nechet\n"
     ]
    }
   ],
   "execution_count": 2
  },
  {
   "metadata": {
    "ExecuteTime": {
     "end_time": "2024-12-08T12:21:30.702807Z",
     "start_time": "2024-12-08T12:21:27.466141Z"
    }
   },
   "cell_type": "code",
   "source": [
    "a = int(input())\n",
    "b= int(input())\n",
    "if b != 0:\n",
    "    print(a/b)\n",
    "else:\n",
    "    print(\"Divide by zero\")\n",
    "    b = int(input(\"Enter a non-zero number: \"))\n",
    "    if b == 0:\n",
    "        print(\"Divide by zero\")\n",
    "    else:\n",
    "        print(a/b)"
   ],
   "id": "bbaf3b0364df0c5a",
   "outputs": [
    {
     "name": "stdout",
     "output_type": "stream",
     "text": [
      "1.6666666666666667\n"
     ]
    }
   ],
   "execution_count": 3
  }
 ],
 "metadata": {
  "kernelspec": {
   "display_name": "Python 3",
   "language": "python",
   "name": "python3"
  },
  "language_info": {
   "codemirror_mode": {
    "name": "ipython",
    "version": 2
   },
   "file_extension": ".py",
   "mimetype": "text/x-python",
   "name": "python",
   "nbconvert_exporter": "python",
   "pygments_lexer": "ipython2",
   "version": "2.7.6"
  }
 },
 "nbformat": 4,
 "nbformat_minor": 5
}
