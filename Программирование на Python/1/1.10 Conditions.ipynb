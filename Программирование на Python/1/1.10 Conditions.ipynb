{
 "cells": [
  {
   "cell_type": "code",
   "id": "initial_id",
   "metadata": {
    "collapsed": true,
    "ExecuteTime": {
     "end_time": "2024-12-08T11:06:19.682271Z",
     "start_time": "2024-12-08T11:06:18.652200Z"
    }
   },
   "source": [
    "x = int(input())\n",
    "if x % 2 == 0:\n",
    "    print(\"chet\")\n",
    "else:\n",
    "    print(\"nechet\")"
   ],
   "outputs": [
    {
     "name": "stdout",
     "output_type": "stream",
     "text": [
      "nechet\n"
     ]
    }
   ],
   "execution_count": 2
  },
  {
   "metadata": {
    "ExecuteTime": {
     "end_time": "2024-12-08T12:21:30.702807Z",
     "start_time": "2024-12-08T12:21:27.466141Z"
    }
   },
   "cell_type": "code",
   "source": [
    "a = int(input())\n",
    "b= int(input())\n",
    "if b != 0:\n",
    "    print(a/b)\n",
    "else:\n",
    "    print(\"Divide by zero\")\n",
    "    b = int(input(\"Enter a non-zero number: \"))\n",
    "    if b == 0:\n",
    "        print(\"Divide by zero\")\n",
    "    else:\n",
    "        print(a/b)"
   ],
   "id": "bbaf3b0364df0c5a",
   "outputs": [
    {
     "name": "stdout",
     "output_type": "stream",
     "text": [
      "1.6666666666666667\n"
     ]
    }
   ],
   "execution_count": 3
  },
  {
   "metadata": {
    "ExecuteTime": {
     "end_time": "2024-12-08T16:39:22.265034Z",
     "start_time": "2024-12-08T16:39:12.888538Z"
    }
   },
   "cell_type": "code",
   "source": [
    "A = int(input())\n",
    "B = int(input())\n",
    "H = int(input())\n",
    "if H >= A and H <= B:\n",
    "    print(\"Это нормально\")\n",
    "elif H < A:\n",
    "    print(\"Недосып\")\n",
    "elif H > B:\n",
    "    print(\"Пересып\")"
   ],
   "id": "3e58f4e19bd4d9c0",
   "outputs": [
    {
     "name": "stdout",
     "output_type": "stream",
     "text": [
      "Это нормально\n"
     ]
    }
   ],
   "execution_count": 1
  },
  {
   "metadata": {},
   "cell_type": "code",
   "outputs": [],
   "execution_count": null,
   "source": [
    "n = int(input())\n",
    "if n % 4 == 0 and n % 100 != 0 or n % 400 == 0:\n",
    "    print(\"Високосный\")\n",
    "else:\n",
    "    print(\"Обычный\")"
   ],
   "id": "97b37c597e0ed53e"
  }
 ],
 "metadata": {
  "kernelspec": {
   "display_name": "Python 3",
   "language": "python",
   "name": "python3"
  },
  "language_info": {
   "codemirror_mode": {
    "name": "ipython",
    "version": 2
   },
   "file_extension": ".py",
   "mimetype": "text/x-python",
   "name": "python",
   "nbconvert_exporter": "python",
   "pygments_lexer": "ipython2",
   "version": "2.7.6"
  }
 },
 "nbformat": 4,
 "nbformat_minor": 5
}
