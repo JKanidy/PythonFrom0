{
 "cells": [
  {
   "cell_type": "code",
   "id": "initial_id",
   "metadata": {
    "collapsed": true,
    "ExecuteTime": {
     "end_time": "2024-12-05T18:04:33.078456Z",
     "start_time": "2024-12-05T18:04:33.074492Z"
    }
   },
   "source": "print(0.3 + 0.3 + 0.3)",
   "outputs": [
    {
     "name": "stdout",
     "output_type": "stream",
     "text": [
      "0.8999999999999999\n"
     ]
    }
   ],
   "execution_count": 1
  },
  {
   "metadata": {},
   "cell_type": "markdown",
   "source": "# Интересный вывод",
   "id": "4e45bc8bd8cf4e2d"
  },
  {
   "metadata": {
    "ExecuteTime": {
     "end_time": "2024-12-05T18:04:51.837323Z",
     "start_time": "2024-12-05T18:04:51.833212Z"
    }
   },
   "cell_type": "code",
   "source": "print(9 ** 0.5)",
   "id": "211a97dd3d964810",
   "outputs": [
    {
     "name": "stdout",
     "output_type": "stream",
     "text": [
      "3.0\n"
     ]
    }
   ],
   "execution_count": 2
  },
  {
   "metadata": {},
   "cell_type": "markdown",
   "source": "# Такая запись равносильна взятию корня",
   "id": "489d2c13ecadeab8"
  },
  {
   "metadata": {
    "ExecuteTime": {
     "end_time": "2024-12-05T18:05:00.440346Z",
     "start_time": "2024-12-05T18:05:00.436774Z"
    }
   },
   "cell_type": "code",
   "source": "print(3e-1)",
   "id": "5f1d08ef9d1342b2",
   "outputs": [
    {
     "name": "stdout",
     "output_type": "stream",
     "text": [
      "0.3\n"
     ]
    }
   ],
   "execution_count": 3
  },
  {
   "metadata": {},
   "cell_type": "markdown",
   "source": "# Такая запись равносильна 3 * 10**-1",
   "id": "aebc719a5d8cc077"
  },
  {
   "metadata": {
    "ExecuteTime": {
     "end_time": "2024-12-05T18:05:07.013764Z",
     "start_time": "2024-12-05T18:05:07.010182Z"
    }
   },
   "cell_type": "code",
   "source": "print(3 * 10**-1)",
   "id": "8a34f94119f090c4",
   "outputs": [
    {
     "name": "stdout",
     "output_type": "stream",
     "text": [
      "0.30000000000000004\n"
     ]
    }
   ],
   "execution_count": 4
  },
  {
   "metadata": {},
   "cell_type": "markdown",
   "source": "# Интересный вывод",
   "id": "90a7bdb6a8483f78"
  },
  {
   "metadata": {
    "ExecuteTime": {
     "end_time": "2024-12-05T18:05:36.828376Z",
     "start_time": "2024-12-05T18:05:36.824173Z"
    }
   },
   "cell_type": "code",
   "source": [
    "print(1.2345e3)\n",
    "print(1.2345e-3)\n",
    "print(2014.0**14)\n",
    "print(7/3)\n",
    "print(7//3)"
   ],
   "id": "b66f4554329c6cb4",
   "outputs": [
    {
     "name": "stdout",
     "output_type": "stream",
     "text": [
      "1234.5\n",
      "0.0012345\n",
      "1.806477376560755e+46\n",
      "2.3333333333333335\n",
      "2\n"
     ]
    }
   ],
   "execution_count": 5
  },
  {
   "metadata": {},
   "cell_type": "markdown",
   "source": "# Запись 2014.0**14 записывается в виде e+... из за того, что это float",
   "id": "ea101d1a5d10fab4"
  }
 ],
 "metadata": {
  "kernelspec": {
   "display_name": "Python 3",
   "language": "python",
   "name": "python3"
  },
  "language_info": {
   "codemirror_mode": {
    "name": "ipython",
    "version": 2
   },
   "file_extension": ".py",
   "mimetype": "text/x-python",
   "name": "python",
   "nbconvert_exporter": "python",
   "pygments_lexer": "ipython2",
   "version": "2.7.6"
  }
 },
 "nbformat": 4,
 "nbformat_minor": 5
}
