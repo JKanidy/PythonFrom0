{
 "cells": [
  {
   "cell_type": "code",
   "id": "initial_id",
   "metadata": {
    "collapsed": true,
    "ExecuteTime": {
     "end_time": "2024-12-08T10:23:47.838045Z",
     "start_time": "2024-12-08T10:23:45.469259Z"
    }
   },
   "source": [
    "a = int(input())\n",
    "print(a > 0)"
   ],
   "outputs": [
    {
     "name": "stdout",
     "output_type": "stream",
     "text": [
      "False\n"
     ]
    }
   ],
   "execution_count": 2
  },
  {
   "metadata": {
    "ExecuteTime": {
     "end_time": "2024-12-08T10:30:38.197780Z",
     "start_time": "2024-12-08T10:30:37.240743Z"
    }
   },
   "cell_type": "code",
   "source": [
    "a = int(input())\n",
    "print((a >= 10) and (a < 100))"
   ],
   "id": "1a94a41974b83705",
   "outputs": [
    {
     "name": "stdout",
     "output_type": "stream",
     "text": [
      "False\n"
     ]
    }
   ],
   "execution_count": 8
  },
  {
   "metadata": {
    "ExecuteTime": {
     "end_time": "2024-12-08T10:31:49.768574Z",
     "start_time": "2024-12-08T10:31:49.761164Z"
    }
   },
   "cell_type": "code",
   "source": [
    "x1, x2, x3 = False, True, False\n",
    "not x1 or x2 and x3"
   ],
   "id": "4b8fab72ddd786fa",
   "outputs": [
    {
     "data": {
      "text/plain": [
       "True"
      ]
     },
     "execution_count": 9,
     "metadata": {},
     "output_type": "execute_result"
    }
   ],
   "execution_count": 9
  },
  {
   "metadata": {},
   "cell_type": "markdown",
   "source": [
    "# Операция and имеет более высокий приоритет, поэтому она вычисляется раньше or.\n",
    "# Приоритет:\n",
    "1) not\n",
    "2) and\n",
    "3) or"
   ],
   "id": "7f916027ef949359"
  },
  {
   "metadata": {
    "ExecuteTime": {
     "end_time": "2024-12-08T10:33:40.116620Z",
     "start_time": "2024-12-08T10:33:40.111953Z"
    }
   },
   "cell_type": "code",
   "source": [
    "x1, x2, x3 = False, True, False\n",
    "((not x1) or x2) and x3"
   ],
   "id": "45c152b2ed414bb0",
   "outputs": [
    {
     "data": {
      "text/plain": [
       "False"
      ]
     },
     "execution_count": 10,
     "metadata": {},
     "output_type": "execute_result"
    }
   ],
   "execution_count": 10
  },
  {
   "metadata": {},
   "cell_type": "markdown",
   "source": "# Вот такой результат был бы, если бы вычисления производились слева направо",
   "id": "7a60e0a316860eed"
  },
  {
   "metadata": {
    "ExecuteTime": {
     "end_time": "2024-12-08T10:39:37.879724Z",
     "start_time": "2024-12-08T10:39:37.875396Z"
    }
   },
   "cell_type": "code",
   "source": [
    "x = 5\n",
    "y = 10\n",
    "y > x * x or y >= 2 * x and x < y"
   ],
   "id": "b15592124a14628d",
   "outputs": [
    {
     "data": {
      "text/plain": [
       "True"
      ]
     },
     "execution_count": 11,
     "metadata": {},
     "output_type": "execute_result"
    }
   ],
   "execution_count": 11
  },
  {
   "metadata": {},
   "cell_type": "markdown",
   "source": "# False True True в конечном итоге, после чего следуем приоритету",
   "id": "ead26bab20ce80c9"
  },
  {
   "metadata": {
    "ExecuteTime": {
     "end_time": "2024-12-08T10:41:39.607834Z",
     "start_time": "2024-12-08T10:41:39.603246Z"
    }
   },
   "cell_type": "code",
   "source": [
    "a = True\n",
    "b = False\n",
    "a and b or not a and not b"
   ],
   "id": "8c7c41403d85b261",
   "outputs": [
    {
     "data": {
      "text/plain": [
       "False"
      ]
     },
     "execution_count": 12,
     "metadata": {},
     "output_type": "execute_result"
    }
   ],
   "execution_count": 12
  }
 ],
 "metadata": {
  "kernelspec": {
   "display_name": "Python 3",
   "language": "python",
   "name": "python3"
  },
  "language_info": {
   "codemirror_mode": {
    "name": "ipython",
    "version": 2
   },
   "file_extension": ".py",
   "mimetype": "text/x-python",
   "name": "python",
   "nbconvert_exporter": "python",
   "pygments_lexer": "ipython2",
   "version": "2.7.6"
  }
 },
 "nbformat": 4,
 "nbformat_minor": 5
}
