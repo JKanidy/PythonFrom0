{
 "cells": [
  {
   "cell_type": "code",
   "id": "initial_id",
   "metadata": {
    "collapsed": true,
    "ExecuteTime": {
     "end_time": "2024-12-10T12:39:02.900054Z",
     "start_time": "2024-12-10T12:39:01.193923Z"
    }
   },
   "source": [
    "a = int(input())\n",
    "b = int(input())\n",
    "c = int(input())\n",
    "p = (a + b + c) / 2\n",
    "S = (p*(p-a)*(p-b)*(p-c))**0.5\n",
    "print(S)"
   ],
   "outputs": [
    {
     "name": "stdout",
     "output_type": "stream",
     "text": [
      "6.0\n"
     ]
    }
   ],
   "execution_count": 2
  },
  {
   "metadata": {
    "ExecuteTime": {
     "end_time": "2024-12-10T12:44:39.427731Z",
     "start_time": "2024-12-10T12:44:37.952728Z"
    }
   },
   "cell_type": "code",
   "source": [
    "a = int(input())\n",
    "if a > -15 and a <= 12 or a > 14 and a < 17 or a >= 19:\n",
    "    print(\"True\")\n",
    "else:\n",
    "    print(\"False\")"
   ],
   "id": "4231b6850f06aa2f",
   "outputs": [
    {
     "name": "stdout",
     "output_type": "stream",
     "text": [
      "False\n"
     ]
    }
   ],
   "execution_count": 7
  },
  {
   "metadata": {
    "ExecuteTime": {
     "end_time": "2024-12-10T13:00:42.591637Z",
     "start_time": "2024-12-10T13:00:39.796896Z"
    }
   },
   "cell_type": "code",
   "source": [
    "a = float(input())\n",
    "b = float(input())\n",
    "c = str(input())\n",
    "\n",
    "if c == \"+\":\n",
    "    print(a + b)\n",
    "elif c == \"-\":\n",
    "    print(a - b)\n",
    "elif c == \"/\":\n",
    "    if b == 0.0:\n",
    "        print(\"Деление на 0!\")\n",
    "    else:\n",
    "        print(a / b)\n",
    "elif c == \"*\":\n",
    "    print(a * b)\n",
    "elif c == \"mod\":\n",
    "    if b == 0.0:\n",
    "        print(\"Деление на 0!\")\n",
    "    else:\n",
    "        print(a % b)\n",
    "elif c == \"pow\":\n",
    "    print(a ** b)\n",
    "elif c == \"div\":\n",
    "    if b == 0.0:\n",
    "        print(\"Деление на 0!\")\n",
    "    else:\n",
    "        print(a // b)"
   ],
   "id": "70a5d6a1b0e814c4",
   "outputs": [
    {
     "name": "stdout",
     "output_type": "stream",
     "text": [
      "Деление на 0!\n"
     ]
    }
   ],
   "execution_count": 13
  },
  {
   "metadata": {
    "ExecuteTime": {
     "end_time": "2024-12-10T13:07:08.796266Z",
     "start_time": "2024-12-10T13:07:05.562247Z"
    }
   },
   "cell_type": "code",
   "source": [
    "figure = str(input())\n",
    "if figure == 'треугольник':\n",
    "    a = int(input())\n",
    "    b = int(input())\n",
    "    c = int(input())\n",
    "    p = (a + b + c) / 2\n",
    "    S = (p*(p-a)*(p-b)*(p-c))**0.5\n",
    "    print(S)\n",
    "elif figure == \"прямоугольник\":\n",
    "    a = int(input())\n",
    "    b = int(input())\n",
    "    print(a*b)\n",
    "elif figure == \"круг\":\n",
    "    r = int(input())\n",
    "    print(3.14 * r**2)"
   ],
   "id": "f18d9d014c5b6fbd",
   "outputs": [
    {
     "name": "stdout",
     "output_type": "stream",
     "text": [
      "3 350\n"
     ]
    }
   ],
   "execution_count": 15
  },
  {
   "metadata": {
    "ExecuteTime": {
     "end_time": "2024-12-10T13:11:45.097326Z",
     "start_time": "2024-12-10T13:11:43.147176Z"
    }
   },
   "cell_type": "code",
   "source": [
    "a = int(input())\n",
    "b = int(input())\n",
    "c = int(input())\n",
    "if a >= b >= c:\n",
    "    print(a,\"\\n\",c,\"\\n\",b)\n",
    "elif a >= c >= b:\n",
    "    print(a,\"\\n\",b,\"\\n\",c)\n",
    "elif b >= a >= c:\n",
    "    print(b,\"\\n\",c,\"\\n\",a)\n",
    "elif b >= c >= a:\n",
    "    print(b,\"\\n\",a,\"\\n\",c)\n",
    "elif c >= b >= a:\n",
    "    print(c,\"\\n\",a,\"\\n\",b)\n",
    "elif c >= a >= b:\n",
    "    print(c,\"\\n\",b,\"\\n\",a)"
   ],
   "id": "2d8ee373c0e50ea",
   "outputs": [
    {
     "name": "stdout",
     "output_type": "stream",
     "text": [
      "3 \n",
      " 2 \n",
      " 1\n"
     ]
    }
   ],
   "execution_count": 20
  },
  {
   "metadata": {
    "ExecuteTime": {
     "end_time": "2024-12-10T14:00:02.277107Z",
     "start_time": "2024-12-10T14:00:01.091732Z"
    }
   },
   "cell_type": "code",
   "source": [
    "n = int(input())\n",
    "word = \"программист\"\n",
    "\n",
    "if n % 10 >= 5 and n % 10 <= 9 or n >= 11 and n <= 19 or n % 10 == 0 or n >= 5 and n <= 9 or n % 100 >= 11 and n % 100 <= 19:\n",
    "    print(n, word + \"ов\")\n",
    "elif n % 10 >= 2 and n % 10 <= 4:\n",
    "    print(n, word + \"а\")\n",
    "elif n == 1 or n % 10 == 1 or n % 100 == 1:\n",
    "    print(n, word)"
   ],
   "id": "4f4f1547e354cb68",
   "outputs": [
    {
     "name": "stdout",
     "output_type": "stream",
     "text": [
      "4 программиста\n"
     ]
    }
   ],
   "execution_count": 101
  },
  {
   "metadata": {
    "ExecuteTime": {
     "end_time": "2024-12-10T13:29:00.675663Z",
     "start_time": "2024-12-10T13:29:00.671787Z"
    }
   },
   "cell_type": "code",
   "source": "",
   "id": "37c4447e2f6ac7d7",
   "outputs": [
    {
     "name": "stdout",
     "output_type": "stream",
     "text": [
      "4\n"
     ]
    }
   ],
   "execution_count": 32
  }
 ],
 "metadata": {
  "kernelspec": {
   "display_name": "Python 3",
   "language": "python",
   "name": "python3"
  },
  "language_info": {
   "codemirror_mode": {
    "name": "ipython",
    "version": 2
   },
   "file_extension": ".py",
   "mimetype": "text/x-python",
   "name": "python",
   "nbconvert_exporter": "python",
   "pygments_lexer": "ipython2",
   "version": "2.7.6"
  }
 },
 "nbformat": 4,
 "nbformat_minor": 5
}
