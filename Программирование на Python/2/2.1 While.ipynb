{
 "cells": [
  {
   "cell_type": "code",
   "id": "initial_id",
   "metadata": {
    "collapsed": true,
    "ExecuteTime": {
     "end_time": "2025-01-01T10:46:03.950540Z",
     "start_time": "2025-01-01T10:46:03.945987Z"
    }
   },
   "source": [
    "i = 0\n",
    "while i <= 10:\n",
    "    i = i + 1\n",
    "    if i > 7:\n",
    "        i = i + 2"
   ],
   "outputs": [],
   "execution_count": 5
  },
  {
   "metadata": {},
   "cell_type": "markdown",
   "source": "# Будет число 13 за 9 итераций",
   "id": "64b4035b60dd7499"
  },
  {
   "metadata": {
    "ExecuteTime": {
     "end_time": "2025-01-01T10:56:00.289140Z",
     "start_time": "2025-01-01T10:56:00.284315Z"
    }
   },
   "cell_type": "code",
   "source": [
    "a = 5\n",
    "while a > 0:\n",
    "    print(a, end=' ')\n",
    "    a -= 1"
   ],
   "id": "e98c4316e59311d9",
   "outputs": [
    {
     "name": "stdout",
     "output_type": "stream",
     "text": [
      "5\n",
      "4\n",
      "3\n",
      "2\n",
      "1\n"
     ]
    }
   ],
   "execution_count": 13
  },
  {
   "metadata": {},
   "cell_type": "markdown",
   "source": "# У команды print можно изменить то, как будет происходить перенос с помощью параметра end (например, вместо переноса строки можно поставить пробел)",
   "id": "b4687e8234676179"
  },
  {
   "metadata": {
    "ExecuteTime": {
     "end_time": "2025-01-01T10:47:57.063482Z",
     "start_time": "2025-01-01T10:47:57.056129Z"
    }
   },
   "cell_type": "code",
   "source": [
    "i = 0\n",
    "while i < 5:\n",
    "    print('*')\n",
    "    if i % 2 == 0:\n",
    "        print('**')\n",
    "    if i > 2:\n",
    "        print('***')\n",
    "    i = i + 1"
   ],
   "id": "14958cbc2bcac527",
   "outputs": [
    {
     "name": "stdout",
     "output_type": "stream",
     "text": [
      "*\n",
      "**\n",
      "*\n",
      "*\n",
      "**\n",
      "*\n",
      "***\n",
      "*\n",
      "**\n",
      "***\n"
     ]
    }
   ],
   "execution_count": 6
  },
  {
   "metadata": {
    "ExecuteTime": {
     "end_time": "2025-01-01T13:05:18.455784Z",
     "start_time": "2025-01-01T13:05:14.433238Z"
    }
   },
   "cell_type": "code",
   "source": [
    "a = int(input())\n",
    "s = 0\n",
    "if a == 0:\n",
    "    print(0)\n",
    "while a != 0:\n",
    "    s += a\n",
    "    a = int(input())\n",
    "    if a == 0:\n",
    "        print(s)"
   ],
   "id": "8e78b0e2fc57b393",
   "outputs": [
    {
     "name": "stdout",
     "output_type": "stream",
     "text": [
      "2\n"
     ]
    }
   ],
   "execution_count": 60
  },
  {
   "metadata": {
    "ExecuteTime": {
     "end_time": "2025-01-01T13:19:20.659425Z",
     "start_time": "2025-01-01T13:19:19.347061Z"
    }
   },
   "cell_type": "code",
   "source": [
    "a = int(input())\n",
    "b = int(input())\n",
    "d = 0\n",
    "while True:\n",
    "    d += 1\n",
    "    if d % a == 0 and d % b == 0:\n",
    "        print(d)\n",
    "        break"
   ],
   "id": "795200b5a48a5fe7",
   "outputs": [
    {
     "name": "stdout",
     "output_type": "stream",
     "text": [
      "15\n"
     ]
    }
   ],
   "execution_count": 66
  }
 ],
 "metadata": {
  "kernelspec": {
   "display_name": "Python 3",
   "language": "python",
   "name": "python3"
  },
  "language_info": {
   "codemirror_mode": {
    "name": "ipython",
    "version": 2
   },
   "file_extension": ".py",
   "mimetype": "text/x-python",
   "name": "python",
   "nbconvert_exporter": "python",
   "pygments_lexer": "ipython2",
   "version": "2.7.6"
  }
 },
 "nbformat": 4,
 "nbformat_minor": 5
}
