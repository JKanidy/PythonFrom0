{
 "cells": [
  {
   "cell_type": "code",
   "id": "initial_id",
   "metadata": {
    "collapsed": true,
    "ExecuteTime": {
     "end_time": "2025-01-03T13:52:09.190278Z",
     "start_time": "2025-01-03T13:52:09.183297Z"
    }
   },
   "source": [
    "students = ['ivan', 'masha', 'sasha']\n",
    "print(len(students))\n",
    "students[0]"
   ],
   "outputs": [
    {
     "name": "stdout",
     "output_type": "stream",
     "text": [
      "3\n"
     ]
    },
    {
     "data": {
      "text/plain": [
       "'ivan'"
      ]
     },
     "execution_count": 5,
     "metadata": {},
     "output_type": "execute_result"
    }
   ],
   "execution_count": 5
  },
  {
   "metadata": {},
   "cell_type": "markdown",
   "source": "# Элементы списка можно выводить с помощью индекса (начиная с 0). Все остальное по типу срезов аналогично строкам",
   "id": "f47e83b52837de6"
  },
  {
   "metadata": {
    "ExecuteTime": {
     "end_time": "2025-01-03T13:54:43.768542Z",
     "start_time": "2025-01-03T13:54:43.763556Z"
    }
   },
   "cell_type": "code",
   "source": [
    "print([0, 1] * 4)\n",
    "test1 = ['ivan']\n",
    "test2 = ['masha', 'sasha']\n",
    "print(test1 + test2)"
   ],
   "id": "944489c5bb9dccaa",
   "outputs": [
    {
     "name": "stdout",
     "output_type": "stream",
     "text": [
      "[0, 1, 0, 1, 0, 1, 0, 1]\n",
      "['ivan', 'masha', 'sasha']\n"
     ]
    }
   ],
   "execution_count": 7
  },
  {
   "metadata": {},
   "cell_type": "markdown",
   "source": "# Списки можно умножать на число, а также складывать друг с другом",
   "id": "e4b59cd87d3f6856"
  },
  {
   "metadata": {
    "ExecuteTime": {
     "end_time": "2025-01-03T13:59:02.271463Z",
     "start_time": "2025-01-03T13:59:02.265974Z"
    }
   },
   "cell_type": "code",
   "source": [
    "students = ['ivan', 'masha', 'sasha']\n",
    "students[1] = 'oleg'\n",
    "print(students)\n",
    "test1 = ['ivan', 'masha', 'sasha']\n",
    "test1 += ['olga']\n",
    "print(test1)\n",
    "test2 = ['ivan', 'masha', 'sasha']\n",
    "test2.append('olga')\n",
    "print(test2)\n",
    "test3 = ['ivan', 'masha', 'sasha']\n",
    "test3.insert(2, 'olga')\n",
    "print(test3)"
   ],
   "id": "7e95db769b33761",
   "outputs": [
    {
     "name": "stdout",
     "output_type": "stream",
     "text": [
      "['ivan', 'oleg', 'sasha']\n",
      "['ivan', 'masha', 'sasha', 'olga']\n",
      "['ivan', 'masha', 'sasha', 'olga']\n",
      "['ivan', 'masha', 'olga', 'sasha']\n"
     ]
    }
   ],
   "execution_count": 16
  },
  {
   "metadata": {},
   "cell_type": "markdown",
   "source": "# Списки можно явно менять без создания копии (как в строках)",
   "id": "ea9921ee20055fc0"
  },
  {
   "metadata": {
    "ExecuteTime": {
     "end_time": "2025-01-03T14:01:44.283455Z",
     "start_time": "2025-01-03T14:01:44.278379Z"
    }
   },
   "cell_type": "code",
   "source": [
    "students = ['ivan', 'masha', 'sasha']\n",
    "students.remove('sasha')\n",
    "print(students)\n",
    "students2 = ['ivan', 'masha', 'sasha']\n",
    "del students2[0]\n",
    "print(students2)"
   ],
   "id": "b0f0b95d63428c78",
   "outputs": [
    {
     "name": "stdout",
     "output_type": "stream",
     "text": [
      "['ivan', 'masha']\n",
      "['masha', 'sasha']\n"
     ]
    }
   ],
   "execution_count": 19
  },
  {
   "metadata": {},
   "cell_type": "markdown",
   "source": "# Можно удалять элементы из списка",
   "id": "30f7955a539b2d7c"
  },
  {
   "metadata": {
    "ExecuteTime": {
     "end_time": "2025-01-03T14:02:59.874721Z",
     "start_time": "2025-01-03T14:02:59.869734Z"
    }
   },
   "cell_type": "code",
   "source": [
    "students = ['ivan', 'masha', 'sasha']\n",
    "print(students.index('sasha'))"
   ],
   "id": "446b4d0625731d9a",
   "outputs": [
    {
     "name": "stdout",
     "output_type": "stream",
     "text": [
      "2\n"
     ]
    }
   ],
   "execution_count": 20
  },
  {
   "metadata": {},
   "cell_type": "markdown",
   "source": "# Можно узнать индекс элемента списка",
   "id": "58c98beee19fa031"
  },
  {
   "metadata": {
    "ExecuteTime": {
     "end_time": "2025-01-03T14:06:00.659545Z",
     "start_time": "2025-01-03T14:06:00.655712Z"
    }
   },
   "cell_type": "code",
   "source": [
    "students = ['ivan', 'sasha', 'masha']\n",
    "print(sorted(students))\n",
    "students.sort()\n",
    "print(students)"
   ],
   "id": "9a905cb7e2fcb790",
   "outputs": [
    {
     "name": "stdout",
     "output_type": "stream",
     "text": [
      "['ivan', 'masha', 'sasha']\n",
      "['ivan', 'masha', 'sasha']\n"
     ]
    }
   ],
   "execution_count": 29
  },
  {
   "metadata": {},
   "cell_type": "markdown",
   "source": "# Можно сортировать список (метод sort упорядочит список, после чего можно просто вызвать список, и он будет упорядочен)",
   "id": "a212391f78dc3873"
  },
  {
   "metadata": {
    "ExecuteTime": {
     "end_time": "2025-01-03T14:12:45.428471Z",
     "start_time": "2025-01-03T14:12:45.423756Z"
    }
   },
   "cell_type": "code",
   "source": [
    "students = ['ivan', 'masha', 'sasha']\n",
    "students.reverse()\n",
    "print(students)\n",
    "students2 = ['ivan', 'sasha', 'masha']\n",
    "print(students2[::-1])\n",
    "for i in reversed(students2):\n",
    "    print(i)"
   ],
   "id": "ad83e8719bda688f",
   "outputs": [
    {
     "name": "stdout",
     "output_type": "stream",
     "text": [
      "['sasha', 'masha', 'ivan']\n",
      "['masha', 'sasha', 'ivan']\n",
      "masha\n",
      "sasha\n",
      "ivan\n"
     ]
    }
   ],
   "execution_count": 41
  },
  {
   "metadata": {},
   "cell_type": "markdown",
   "source": "# Разница команд по типо reversed(students) и students.reverse() в том, что stutents.reverse() не создает новый список, а инверсирует уже существующий",
   "id": "62b6cce8259c2353"
  },
  {
   "metadata": {
    "ExecuteTime": {
     "end_time": "2025-01-03T14:15:00.556300Z",
     "start_time": "2025-01-03T14:15:00.550315Z"
    }
   },
   "cell_type": "code",
   "source": [
    "a = [1, 'a', 2]\n",
    "b = a\n",
    "a[0] = 42\n",
    "print(a)\n",
    "print(b)\n",
    "b[2] = 42\n",
    "print(a)\n",
    "print(b)"
   ],
   "id": "abe07818a6311c0c",
   "outputs": [
    {
     "name": "stdout",
     "output_type": "stream",
     "text": [
      "[42, 'a', 2]\n",
      "[42, 'a', 2]\n",
      "[42, 'a', 42]\n",
      "[42, 'a', 42]\n"
     ]
    }
   ],
   "execution_count": 44
  },
  {
   "metadata": {},
   "cell_type": "markdown",
   "source": "# Так как присвоение работает таким образом, что обе переменные ссылаются на один и тот же список, то при обновлении индекса у какой-либо переменной обе переменные меняют свою значение на заданное. Если присвоить новое значение одной из переменных, то вторая переменная будет ссылаться на прошлый объект, никак не изменив свое значение",
   "id": "73b20daf5267ca37"
  },
  {
   "metadata": {
    "ExecuteTime": {
     "end_time": "2025-01-03T14:25:13.466459Z",
     "start_time": "2025-01-03T14:25:09.724628Z"
    }
   },
   "cell_type": "code",
   "source": [
    "a = [0] * 5\n",
    "print(a)\n",
    "a = [0 for i in range(5)]\n",
    "print(a)\n",
    "a = [i * i for i in range(5)]\n",
    "print(a)\n",
    "a = [int(i) for i in input().split()]\n",
    "print(a)"
   ],
   "id": "37c75929310ecab2",
   "outputs": [
    {
     "name": "stdout",
     "output_type": "stream",
     "text": [
      "[0, 0, 0, 0, 0]\n",
      "[0, 0, 0, 0, 0]\n",
      "[0, 1, 4, 9, 16]\n",
      "[2, 3]\n"
     ]
    }
   ],
   "execution_count": 51
  },
  {
   "metadata": {},
   "cell_type": "markdown",
   "source": "# Можно создавать списки с помощью конструкции ... for i in ..., где первый пропуск - это условие, которое будет применяться для цикла for, а второй пропуск - это то, как будут генерироваться значения для списка",
   "id": "b9f1d2a3da402e4c"
  },
  {
   "metadata": {
    "ExecuteTime": {
     "end_time": "2025-01-03T14:29:48.719209Z",
     "start_time": "2025-01-03T14:29:47.857532Z"
    }
   },
   "cell_type": "code",
   "source": [
    "a = [int(i) for i in input().split()]\n",
    "n = 0\n",
    "for i in a:\n",
    "    n += i\n",
    "print(n)"
   ],
   "id": "c44ab41d7af3ac0c",
   "outputs": [
    {
     "name": "stdout",
     "output_type": "stream",
     "text": [
      "6\n"
     ]
    }
   ],
   "execution_count": 56
  },
  {
   "metadata": {
    "ExecuteTime": {
     "end_time": "2025-01-03T14:31:53.370053Z",
     "start_time": "2025-01-03T14:31:51.236697Z"
    }
   },
   "cell_type": "code",
   "source": "print(sum(int(i) for i in input().split()))",
   "id": "5be0ededfa3bfd9e",
   "outputs": [
    {
     "name": "stdout",
     "output_type": "stream",
     "text": [
      "11\n"
     ]
    }
   ],
   "execution_count": 59
  },
  {
   "metadata": {},
   "cell_type": "markdown",
   "source": "# Улучшенное решение прошлой задачи",
   "id": "dc8d0a0a69a47c7"
  },
  {
   "metadata": {
    "ExecuteTime": {
     "end_time": "2025-01-03T14:54:14.915143Z",
     "start_time": "2025-01-03T14:54:14.907392Z"
    }
   },
   "cell_type": "code",
   "source": [
    "a = [int(i) for i in input().split()]\n",
    "lst = []\n",
    "\n",
    "if len(a) == 1:\n",
    "        print(a[0])\n",
    "else:\n",
    "    for i in range(len(a) - 1):\n",
    "        lst.append(a[i - 1] + a[i + 1])\n",
    "\n",
    "    b = a[::-1]\n",
    "    i = 0\n",
    "    lst.append(b[i - 1] + b[i + 1])   \n",
    "\n",
    "    for i in lst:\n",
    "        print(i, end=' ')"
   ],
   "id": "9c882289a2e658cc",
   "outputs": [
    {
     "name": "stdout",
     "output_type": "stream",
     "text": [
      "4 20 "
     ]
    }
   ],
   "execution_count": 7
  },
  {
   "metadata": {
    "ExecuteTime": {
     "end_time": "2025-01-03T15:31:26.318326Z",
     "start_time": "2025-01-03T15:31:24.395577Z"
    }
   },
   "cell_type": "code",
   "source": [
    "a = [int(i) for i in input().split()]\n",
    "lst = []\n",
    "uniq_lst = []\n",
    "for i in range(len(a) - 1):\n",
    "    if a.count(a[i]) > 1:\n",
    "        lst.append(a[i])\n",
    "        \n",
    "for j in lst:\n",
    "    if j not in uniq_lst:\n",
    "        uniq_lst.append(j)\n",
    "    \n",
    "for k in uniq_lst:\n",
    "    print(k, end=' ')"
   ],
   "id": "f71d852c7fee4a84",
   "outputs": [
    {
     "ename": "IndexError",
     "evalue": "list index out of range",
     "output_type": "error",
     "traceback": [
      "\u001B[1;31m---------------------------------------------------------------------------\u001B[0m",
      "\u001B[1;31mIndexError\u001B[0m                                Traceback (most recent call last)",
      "Cell \u001B[1;32mIn[49], line 5\u001B[0m\n\u001B[0;32m      3\u001B[0m uniq_lst \u001B[38;5;241m=\u001B[39m []\n\u001B[0;32m      4\u001B[0m \u001B[38;5;28;01mfor\u001B[39;00m i \u001B[38;5;129;01min\u001B[39;00m \u001B[38;5;28mrange\u001B[39m(\u001B[38;5;28mlen\u001B[39m(b) \u001B[38;5;241m-\u001B[39m \u001B[38;5;241m1\u001B[39m):\n\u001B[1;32m----> 5\u001B[0m     \u001B[38;5;28;01mif\u001B[39;00m a\u001B[38;5;241m.\u001B[39mcount(\u001B[43ma\u001B[49m\u001B[43m[\u001B[49m\u001B[43mi\u001B[49m\u001B[43m]\u001B[49m) \u001B[38;5;241m>\u001B[39m \u001B[38;5;241m1\u001B[39m:\n\u001B[0;32m      6\u001B[0m         lst\u001B[38;5;241m.\u001B[39mappend(a[i])\n\u001B[0;32m      8\u001B[0m \u001B[38;5;28;01mfor\u001B[39;00m j \u001B[38;5;129;01min\u001B[39;00m lst:\n",
      "\u001B[1;31mIndexError\u001B[0m: list index out of range"
     ]
    }
   ],
   "execution_count": 49
  },
  {
   "metadata": {},
   "cell_type": "markdown",
   "source": "# Наверняка можно сильно проще, но я почему то долго это делал, хотя вроде в голове все понятно было",
   "id": "fd2d0210fc46a44a"
  },
  {
   "metadata": {
    "ExecuteTime": {
     "end_time": "2025-01-03T15:34:08.806013Z",
     "start_time": "2025-01-03T15:34:08.801356Z"
    }
   },
   "cell_type": "code",
   "source": [
    "a = [[1, 2, 3], [4, 5, 6], [7, 8, 9]]\n",
    "print(a[0])\n",
    "print(a[1][1])"
   ],
   "id": "b3ca919bf95caf23",
   "outputs": [
    {
     "name": "stdout",
     "output_type": "stream",
     "text": [
      "[1, 2, 3]\n",
      "5\n"
     ]
    }
   ],
   "execution_count": 51
  },
  {
   "metadata": {},
   "cell_type": "markdown",
   "source": "# Можно создавать многомерные массивы",
   "id": "d1966763b42dcec9"
  },
  {
   "metadata": {
    "ExecuteTime": {
     "end_time": "2025-01-03T15:36:56.446205Z",
     "start_time": "2025-01-03T15:36:56.441822Z"
    }
   },
   "cell_type": "code",
   "source": [
    "n = 3\n",
    "a = [[0] * n] * n\n",
    "print(a)\n",
    "a[0][0] = 5\n",
    "print(a)"
   ],
   "id": "518b6aa09f04d483",
   "outputs": [
    {
     "name": "stdout",
     "output_type": "stream",
     "text": [
      "[[0, 0, 0], [0, 0, 0], [0, 0, 0]]\n",
      "[[5, 0, 0], [5, 0, 0], [5, 0, 0]]\n"
     ]
    }
   ],
   "execution_count": 54
  },
  {
   "metadata": {},
   "cell_type": "markdown",
   "source": "# При присвоении a[0][0] значения 5 оно появилось не только в этом месте, но и в [0][0], [1][0], [2][0], потому что каждый элемент списка а это ссылка на список [5, 0, 0], поэтому у нас по вертикали выходят 5 5 5, так как каждый элемент просто берет эту 5 из первоначального списка",
   "id": "f08379801064e970"
  },
  {
   "metadata": {
    "ExecuteTime": {
     "end_time": "2025-01-03T15:41:50.845960Z",
     "start_time": "2025-01-03T15:41:50.840693Z"
    }
   },
   "cell_type": "code",
   "source": [
    "a = [[0] * n for i in range(n)]\n",
    "b = [[0 for j in range(n)] for i in range(n)]\n",
    "print(a)\n",
    "print(b)"
   ],
   "id": "6e87da85ec8eaebb",
   "outputs": [
    {
     "name": "stdout",
     "output_type": "stream",
     "text": [
      "[[0, 0, 0], [0, 0, 0], [0, 0, 0]]\n",
      "[[0, 0, 0], [0, 0, 0], [0, 0, 0]]\n"
     ]
    }
   ],
   "execution_count": 56
  },
  {
   "metadata": {},
   "cell_type": "markdown",
   "source": "# При создании матрицы таким образом не будет проблемы, показанной выше",
   "id": "afea910b0e078ef6"
  }
 ],
 "metadata": {
  "kernelspec": {
   "display_name": "Python 3",
   "language": "python",
   "name": "python3"
  },
  "language_info": {
   "codemirror_mode": {
    "name": "ipython",
    "version": 2
   },
   "file_extension": ".py",
   "mimetype": "text/x-python",
   "name": "python",
   "nbconvert_exporter": "python",
   "pygments_lexer": "ipython2",
   "version": "2.7.6"
  }
 },
 "nbformat": 4,
 "nbformat_minor": 5
}
