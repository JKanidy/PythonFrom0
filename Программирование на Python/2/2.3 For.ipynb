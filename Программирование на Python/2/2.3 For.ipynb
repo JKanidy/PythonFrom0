{
 "cells": [
  {
   "cell_type": "code",
   "id": "initial_id",
   "metadata": {
    "collapsed": true,
    "ExecuteTime": {
     "end_time": "2025-01-02T12:54:19.527897Z",
     "start_time": "2025-01-02T12:54:19.520916Z"
    }
   },
   "source": [
    "for i in 2, 3, 5:\n",
    "    print(i * i)"
   ],
   "outputs": [
    {
     "name": "stdout",
     "output_type": "stream",
     "text": [
      "4\n",
      "9\n",
      "25\n"
     ]
    }
   ],
   "execution_count": 1
  },
  {
   "metadata": {
    "ExecuteTime": {
     "end_time": "2025-01-02T12:54:43.914032Z",
     "start_time": "2025-01-02T12:54:43.910027Z"
    }
   },
   "cell_type": "code",
   "source": [
    "for i in range(10):\n",
    "    print(i * i)"
   ],
   "id": "10bade8dd18c79d5",
   "outputs": [
    {
     "name": "stdout",
     "output_type": "stream",
     "text": [
      "0\n",
      "1\n",
      "4\n",
      "9\n",
      "16\n",
      "25\n",
      "36\n",
      "49\n",
      "64\n",
      "81\n"
     ]
    }
   ],
   "execution_count": 2
  },
  {
   "metadata": {},
   "cell_type": "markdown",
   "source": "# В range не входит последнее число (то есть, если берем range(10), то будут числа от 0 до 9)",
   "id": "ff859f41c0a01cfa"
  },
  {
   "metadata": {
    "ExecuteTime": {
     "end_time": "2025-01-02T12:58:33.398739Z",
     "start_time": "2025-01-02T12:58:33.393237Z"
    }
   },
   "cell_type": "code",
   "source": [
    "for i in range(2, 15, 4):\n",
    "    print(i)"
   ],
   "id": "7bf2e432681d70e9",
   "outputs": [
    {
     "name": "stdout",
     "output_type": "stream",
     "text": [
      "2\n",
      "6\n",
      "10\n",
      "14\n"
     ]
    }
   ],
   "execution_count": 6
  },
  {
   "metadata": {},
   "cell_type": "markdown",
   "source": "# Первый параметр в функции range - это то, откуда начинаем, второй - то, где заканчиваем (не включительно), а третий - это шаг, с которым двигаемся. range(start=0, to, step=1)",
   "id": "b019a439343f2307"
  },
  {
   "metadata": {
    "ExecuteTime": {
     "end_time": "2025-01-02T13:04:37.036622Z",
     "start_time": "2025-01-02T13:04:36.030858Z"
    }
   },
   "cell_type": "code",
   "source": [
    "n = int(input())\n",
    "for i in range(n):\n",
    "    print('* ' * n)"
   ],
   "id": "2c504f259011c843",
   "outputs": [
    {
     "name": "stdout",
     "output_type": "stream",
     "text": [
      "* * * * * \n",
      "* * * * * \n",
      "* * * * * \n",
      "* * * * * \n",
      "* * * * * \n"
     ]
    }
   ],
   "execution_count": 13
  },
  {
   "metadata": {
    "ExecuteTime": {
     "end_time": "2025-01-02T13:07:01.914582Z",
     "start_time": "2025-01-02T13:07:01.267878Z"
    }
   },
   "cell_type": "code",
   "source": [
    "n = int(input())\n",
    "for i in range(n):\n",
    "    for j in range(n):\n",
    "        print('* ', end=\"\")\n",
    "    print()"
   ],
   "id": "85fde1844f80c0b3",
   "outputs": [
    {
     "name": "stdout",
     "output_type": "stream",
     "text": [
      "* * * * * \n",
      "* * * * * \n",
      "* * * * * \n",
      "* * * * * \n",
      "* * * * * \n"
     ]
    }
   ],
   "execution_count": 19
  },
  {
   "metadata": {
    "ExecuteTime": {
     "end_time": "2025-01-02T14:42:09.167652Z",
     "start_time": "2025-01-02T14:42:09.160955Z"
    }
   },
   "cell_type": "code",
   "source": [
    "a = int(input())\n",
    "b = int(input())\n",
    "c = int(input())\n",
    "d = int(input())\n",
    "print('\\t', end='')\n",
    "g = (d - c)\n",
    "for i in range(c, d + 1):\n",
    "    print(i, end='\\t')\n",
    "print()\n",
    "for j in range(a, b + 1):\n",
    "    print(j, end='\\t')\n",
    "    for k in range(c, d + 1):\n",
    "        print(j * (i - g), end='\\t')\n",
    "        g -= 1\n",
    "    g = (d - c)\n",
    "    print()"
   ],
   "id": "1dbdacc7bd18249a",
   "outputs": [
    {
     "name": "stdout",
     "output_type": "stream",
     "text": [
      "\t5\t6\t7\t8\t9\t\n",
      "1\t5\t6\t7\t8\t9\t\n",
      "2\t10\t12\t14\t16\t18\t\n",
      "3\t15\t18\t21\t24\t27\t\n",
      "4\t20\t24\t28\t32\t36\t\n"
     ]
    }
   ],
   "execution_count": 165
  },
  {
   "metadata": {},
   "cell_type": "markdown",
   "source": "# Это официально самое тильтовое задание за всю мою жизнь",
   "id": "4c78e2d4dba65611"
  },
  {
   "metadata": {
    "ExecuteTime": {
     "end_time": "2025-01-02T14:50:30.980620Z",
     "start_time": "2025-01-02T14:50:24.250601Z"
    }
   },
   "cell_type": "code",
   "source": [
    "a = int(input())\n",
    "b = int(input())\n",
    "n = 0\n",
    "k = 0\n",
    "for i in range(a, b + 1):\n",
    "    if i % 3 == 0:\n",
    "        n += i\n",
    "        k += 1\n",
    "print(n / k)\n",
    "        "
   ],
   "id": "156b66c6df3afc87",
   "outputs": [
    {
     "name": "stdout",
     "output_type": "stream",
     "text": [
      "4.5\n"
     ]
    }
   ],
   "execution_count": 166
  },
  {
   "metadata": {},
   "cell_type": "markdown",
   "source": "# Как может идти такая задача после предыдущей я не понимаю",
   "id": "46a63822e9c727e2"
  }
 ],
 "metadata": {
  "kernelspec": {
   "display_name": "Python 3",
   "language": "python",
   "name": "python3"
  },
  "language_info": {
   "codemirror_mode": {
    "name": "ipython",
    "version": 2
   },
   "file_extension": ".py",
   "mimetype": "text/x-python",
   "name": "python",
   "nbconvert_exporter": "python",
   "pygments_lexer": "ipython2",
   "version": "2.7.6"
  }
 },
 "nbformat": 4,
 "nbformat_minor": 5
}
