{
 "cells": [
  {
   "cell_type": "code",
   "id": "initial_id",
   "metadata": {
    "collapsed": true,
    "ExecuteTime": {
     "end_time": "2025-01-02T14:54:59.427915Z",
     "start_time": "2025-01-02T14:54:59.423079Z"
    }
   },
   "source": [
    "genome = 'ATGG'\n",
    "print(genome[0])\n",
    "print(genome[-1])"
   ],
   "outputs": [
    {
     "name": "stdout",
     "output_type": "stream",
     "text": [
      "A\n",
      "G\n"
     ]
    }
   ],
   "execution_count": 8
  },
  {
   "metadata": {},
   "cell_type": "markdown",
   "source": "# Можно брать какое либо значение из строки по индексу символа, первый символ находится по иднексу 0. Также можно брать символы с конца, последний символ находится по индексу -1.",
   "id": "7f5f95a0fe00332a"
  },
  {
   "metadata": {
    "ExecuteTime": {
     "end_time": "2025-01-03T13:46:28.264731Z",
     "start_time": "2025-01-03T13:46:28.258946Z"
    }
   },
   "cell_type": "code",
   "source": [
    "genome = 'ATGG'\n",
    "for i in range(4):\n",
    "    print(genome[i])"
   ],
   "id": "53ba6a1d231928e5",
   "outputs": [
    {
     "name": "stdout",
     "output_type": "stream",
     "text": [
      "A\n",
      "T\n",
      "G\n",
      "G\n"
     ]
    }
   ],
   "execution_count": 1
  },
  {
   "metadata": {},
   "cell_type": "markdown",
   "source": "# Так как у range и [] счет идет с 0, то мы можем перебирть символы с помощью цикла for",
   "id": "b38e52ad7727e39c"
  },
  {
   "metadata": {
    "ExecuteTime": {
     "end_time": "2025-01-02T14:58:29.351136Z",
     "start_time": "2025-01-02T14:58:29.344097Z"
    }
   },
   "cell_type": "code",
   "source": [
    "genome = 'ATGG'\n",
    "for i in genome:\n",
    "    print(i)"
   ],
   "id": "be3b68053d46d3d7",
   "outputs": [
    {
     "name": "stdout",
     "output_type": "stream",
     "text": [
      "A\n",
      "T\n",
      "G\n",
      "G\n"
     ]
    }
   ],
   "execution_count": 11
  },
  {
   "metadata": {},
   "cell_type": "markdown",
   "source": "# Запись аналогична коду выше",
   "id": "ca598cf00e37c138"
  },
  {
   "metadata": {
    "ExecuteTime": {
     "end_time": "2025-01-02T15:01:24.547249Z",
     "start_time": "2025-01-02T15:01:21.809765Z"
    }
   },
   "cell_type": "code",
   "source": [
    "genome = input()\n",
    "count = 0\n",
    "for i in genome:\n",
    "    if i == 'C':\n",
    "        count += 1\n",
    "print(count)"
   ],
   "id": "5f84cb962752a285",
   "outputs": [
    {
     "name": "stdout",
     "output_type": "stream",
     "text": [
      "3\n"
     ]
    }
   ],
   "execution_count": 13
  },
  {
   "metadata": {
    "ExecuteTime": {
     "end_time": "2025-01-02T15:02:31.491815Z",
     "start_time": "2025-01-02T15:02:27.930132Z"
    }
   },
   "cell_type": "code",
   "source": [
    "genome = input()\n",
    "print(genome.count('C'))"
   ],
   "id": "afe58c9e23a46fa3",
   "outputs": [
    {
     "name": "stdout",
     "output_type": "stream",
     "text": [
      "3\n"
     ]
    }
   ],
   "execution_count": 14
  },
  {
   "metadata": {},
   "cell_type": "markdown",
   "source": "# Метод count делает то же самое, что и код выше",
   "id": "20306f5faf7f9a4"
  },
  {
   "metadata": {
    "ExecuteTime": {
     "end_time": "2025-01-02T15:10:09.739801Z",
     "start_time": "2025-01-02T15:10:09.734931Z"
    }
   },
   "cell_type": "code",
   "source": [
    "s = 'aTGcc'\n",
    "p = 'cc'\n",
    "s.upper() # сделает все символы заглавными\n",
    "s.lower() # сделает все символы строчными\n",
    "s.count(p) # сколько раз встречалась строка p в строке s\n",
    "s.find(p) # будет искать строку p, в данном случае выведет 3, так как там появился первый символ строки p\n",
    "s.find('A') # будет искать A, в случае неудачи выведет -1\n",
    "s.replace('c', 'C') # заменит c на C"
   ],
   "id": "f6c91966c6f90b34",
   "outputs": [
    {
     "data": {
      "text/plain": [
       "'ATGCC'"
      ]
     },
     "execution_count": 30,
     "metadata": {},
     "output_type": "execute_result"
    }
   ],
   "execution_count": 30
  },
  {
   "metadata": {
    "ExecuteTime": {
     "end_time": "2025-01-02T15:14:51.164179Z",
     "start_time": "2025-01-02T15:14:51.158240Z"
    }
   },
   "cell_type": "code",
   "source": [
    "s = 'agTtcAGtc'\n",
    "s.upper().count('gt'.upper())"
   ],
   "id": "e9ad27f3bb433099",
   "outputs": [
    {
     "data": {
      "text/plain": [
       "2"
      ]
     },
     "execution_count": 31,
     "metadata": {},
     "output_type": "execute_result"
    }
   ],
   "execution_count": 31
  },
  {
   "metadata": {},
   "cell_type": "markdown",
   "source": "# Можно выводить методов функций подряд",
   "id": "c6a21cfc7814aa10"
  },
  {
   "metadata": {
    "ExecuteTime": {
     "end_time": "2025-01-02T15:23:15.841638Z",
     "start_time": "2025-01-02T15:23:07.623194Z"
    }
   },
   "cell_type": "code",
   "source": [
    "a = str(input())\n",
    "count = 0\n",
    "strcount = 0\n",
    "for i in a:\n",
    "    strcount += 1\n",
    "    if i == 'g' or i == 'c' or i == 'G' or i == 'C':\n",
    "        count += 1\n",
    "result = (count / strcount * 100)\n",
    "print(result)"
   ],
   "id": "843f3cbff5b6c900",
   "outputs": [
    {
     "name": "stdout",
     "output_type": "stream",
     "text": [
      "40.0\n"
     ]
    }
   ],
   "execution_count": 36
  },
  {
   "metadata": {
    "ExecuteTime": {
     "end_time": "2025-01-02T15:32:03.733153Z",
     "start_time": "2025-01-02T15:32:03.726172Z"
    }
   },
   "cell_type": "code",
   "source": [
    "dna = 'ATTCGGAGCT'\n",
    "dna[1]\n",
    "dna[1:4]\n",
    "dna[:4]\n",
    "dna[4:]\n",
    "dna[-4:]\n",
    "dna[1:-1]\n",
    "dna[1:-1:2]\n",
    "dna[::-1] # эта конструкция возьмет все символы в обратном порядке, если быть точнее, то мы не указываем левую и правую границу, но указываемо отрицательный шаг"
   ],
   "id": "4f95519d8b7a0765",
   "outputs": [
    {
     "data": {
      "text/plain": [
       "'TCGAGGCTTA'"
      ]
     },
     "execution_count": 39,
     "metadata": {},
     "output_type": "execute_result"
    }
   ],
   "execution_count": 39
  },
  {
   "metadata": {},
   "cell_type": "markdown",
   "source": "# Со срезами все налалогично range, также указываем начало, конец и шаг, с которым пойдем. Начало среза включено, а конец не включается, аналогично range.",
   "id": "6477dfaf5e95c0b6"
  },
  {
   "metadata": {
    "ExecuteTime": {
     "end_time": "2025-01-02T15:47:58.910230Z",
     "start_time": "2025-01-02T15:47:56.263137Z"
    }
   },
   "cell_type": "code",
   "source": [
    "s = input()\n",
    "i = 0\n",
    "j = len(s) - 1\n",
    "is_palindrome = True\n",
    "while i < j:\n",
    "    if s[i] != s[j]:\n",
    "        is_palindrome = False\n",
    "        print('NO')\n",
    "        break\n",
    "    i += 1\n",
    "    j -= 1\n",
    "    if is_palindrome:\n",
    "        print(\"YES\")\n",
    "    else:\n",
    "        print(\"NO\")"
   ],
   "id": "66cbb7c1a99a8da1",
   "outputs": [
    {
     "name": "stdout",
     "output_type": "stream",
     "text": [
      "NO\n"
     ]
    }
   ],
   "execution_count": 51
  },
  {
   "metadata": {},
   "cell_type": "markdown",
   "source": "# j = len(s) - 1, потому что счет i идет с 0, поэтому если длина будет 4, то в нашем случае это будет 0 1 2 3",
   "id": "5b98008c60861ba3"
  },
  {
   "metadata": {
    "ExecuteTime": {
     "end_time": "2025-01-02T15:46:38.415651Z",
     "start_time": "2025-01-02T15:46:36.258031Z"
    }
   },
   "cell_type": "code",
   "source": [
    "s = input()\n",
    "r = s[::-1]\n",
    "if s == r:\n",
    "    print(\"YES\")\n",
    "else:\n",
    "    print(\"NO\")"
   ],
   "id": "43a9aae866e9b77f",
   "outputs": [
    {
     "name": "stdout",
     "output_type": "stream",
     "text": [
      "NO\n"
     ]
    }
   ],
   "execution_count": 46
  },
  {
   "metadata": {},
   "cell_type": "markdown",
   "source": "# Аналогично коду выше, но идея в использовании среза, который переворачивает строку",
   "id": "e9d1c3e6e4a1028c"
  },
  {
   "metadata": {
    "ExecuteTime": {
     "end_time": "2025-01-02T16:36:52.773849Z",
     "start_time": "2025-01-02T16:36:52.767865Z"
    }
   },
   "cell_type": "code",
   "source": [
    "s = input()\n",
    "symbol = s[0]\n",
    "count = -1\n",
    "for i in s + \" \":\n",
    "    last = symbol\n",
    "    symbol = i\n",
    "    count += 1\n",
    "    if last != symbol:\n",
    "        print(last, end='', sep='')\n",
    "    if symbol != last:\n",
    "        print(count, end='', sep='')\n",
    "        count = 0"
   ],
   "id": "2d5209fcee682fc1",
   "outputs": [
    {
     "name": "stdout",
     "output_type": "stream",
     "text": [
      "a4b2c1a1"
     ]
    }
   ],
   "execution_count": 141
  },
  {
   "metadata": {},
   "cell_type": "markdown",
   "source": "# Это одно из самых умных решений которые я делал (особенно то, как я решил проблему последнего символа)",
   "id": "bfda0030d844e750"
  }
 ],
 "metadata": {
  "kernelspec": {
   "display_name": "Python 3",
   "language": "python",
   "name": "python3"
  },
  "language_info": {
   "codemirror_mode": {
    "name": "ipython",
    "version": 2
   },
   "file_extension": ".py",
   "mimetype": "text/x-python",
   "name": "python",
   "nbconvert_exporter": "python",
   "pygments_lexer": "ipython2",
   "version": "2.7.6"
  }
 },
 "nbformat": 4,
 "nbformat_minor": 5
}
