{
 "cells": [
  {
   "cell_type": "code",
   "id": "initial_id",
   "metadata": {
    "collapsed": true,
    "ExecuteTime": {
     "end_time": "2025-01-05T16:04:20.102737Z",
     "start_time": "2025-01-05T16:04:10.943697Z"
    }
   },
   "source": [
    "a = int(input())\n",
    "b = []\n",
    "c = -1\n",
    "while c != 0:\n",
    "    b.append(a)\n",
    "    for i in b:\n",
    "        c = sum(b)\n",
    "    a = int(input())\n",
    "\n",
    "e = []\n",
    "for j in b:\n",
    "    e.append(j * j)\n",
    "g = sum(e)\n",
    "print(g)"
   ],
   "outputs": [
    {
     "name": "stdout",
     "output_type": "stream",
     "text": [
      "340\n"
     ]
    }
   ],
   "execution_count": 13
  },
  {
   "metadata": {},
   "cell_type": "markdown",
   "source": "# Тильтово немного с переменными получилось, но работает",
   "id": "523bd6349dd0d9c1"
  },
  {
   "metadata": {
    "ExecuteTime": {
     "end_time": "2025-01-05T16:42:39.837021Z",
     "start_time": "2025-01-05T16:42:39.035922Z"
    }
   },
   "cell_type": "code",
   "source": [
    "a = int(input())\n",
    "lst = []\n",
    "k = 1\n",
    "while lst.count(k) != k:\n",
    "    lst.append(k)\n",
    "    if lst.count(k) == k:\n",
    "        k += 1\n",
    "    if len(lst) == a:\n",
    "        for i in lst:\n",
    "            print(i, end=' ')\n",
    "        break"
   ],
   "id": "ff3ebc1296a45e2",
   "outputs": [
    {
     "name": "stdout",
     "output_type": "stream",
     "text": [
      "1 2 2 3 3 3 4 "
     ]
    }
   ],
   "execution_count": 49
  },
  {
   "metadata": {
    "ExecuteTime": {
     "end_time": "2025-01-05T17:03:51.012772Z",
     "start_time": "2025-01-05T17:03:49.288840Z"
    }
   },
   "cell_type": "code",
   "source": [
    "a = [int(i) for i in input().split()]\n",
    "b = int(input())\n",
    "lst = []\n",
    "k = 0\n",
    "for i in a:\n",
    "    if i == b:\n",
    "        lst.append(k)\n",
    "    k += 1\n",
    "    if b not in a:\n",
    "        print(\"Отсутствует\")\n",
    "        break\n",
    "for i in lst:\n",
    "    print(i, end=' ')"
   ],
   "id": "1c789986b7efc934",
   "outputs": [
    {
     "name": "stdout",
     "output_type": "stream",
     "text": [
      "Отсутствует\n"
     ]
    }
   ],
   "execution_count": 80
  },
  {
   "metadata": {
    "ExecuteTime": {
     "end_time": "2025-01-05T19:11:22.565591Z",
     "start_time": "2025-01-05T19:11:19.071981Z"
    }
   },
   "cell_type": "code",
   "source": [
    "lst = []\n",
    "while True:\n",
    "    a = input()\n",
    "    if 'end' in a:\n",
    "        break\n",
    "    lst.append([int(i) for i in a.split()])\n",
    "\n",
    "rows = len(lst)\n",
    "cols = len(lst[0])\n",
    "result = [[0] * cols for i in range(rows)]\n",
    "\n",
    "for i in range(rows):\n",
    "    for j in range(cols):\n",
    "        result[i][j] = lst[(i + 1) % rows][j] + lst[i - 1][j] + lst[i][(j + 1) % cols] + lst[i][j - 1]\n",
    "\n",
    "for row in result:\n",
    "    print(*row)"
   ],
   "id": "d862503d0a8c3270",
   "outputs": [
    {
     "name": "stdout",
     "output_type": "stream",
     "text": [
      "24\n"
     ]
    }
   ],
   "execution_count": 50
  },
  {
   "metadata": {},
   "cell_type": "markdown",
   "source": "# Пришлось подсмотреть как исправить ошибку выхода за границу, а также подсмотрел как проще сделать вывод без матричных скобок",
   "id": "7c94d90dccc65bf7"
  },
  {
   "metadata": {
    "ExecuteTime": {
     "end_time": "2025-01-05T20:18:49.563985Z",
     "start_time": "2025-01-05T20:18:48.549070Z"
    }
   },
   "cell_type": "code",
   "source": [
    "n = int(input())\n",
    "result = [[0] * n for i in range(n)]\n",
    "\n",
    "top, bottom, left, right = 0, (n - 1), 0, (n - 1)\n",
    "k = 1\n",
    "\n",
    "while k <= n * n:\n",
    "    for i in range(left, right + 1):\n",
    "        result[top][i] = k\n",
    "        k += 1\n",
    "    top += 1\n",
    "    \n",
    "    for i in range(top, bottom + 1):\n",
    "        result[i][right] = k\n",
    "        k += 1\n",
    "    right -= 1\n",
    "\n",
    "    for i in range(right, left - 1, -1):\n",
    "        result[bottom][i] = k\n",
    "        k += 1\n",
    "    bottom -= 1\n",
    "\n",
    "    for i in range(bottom, top - 1, -1):\n",
    "        result[i][left] = k\n",
    "        k += 1\n",
    "    left += 1\n",
    "\n",
    "for row in result:\n",
    "    print(*row)"
   ],
   "id": "a9c2a71bdc23a23d",
   "outputs": [
    {
     "name": "stdout",
     "output_type": "stream",
     "text": [
      "1 2 3 4 5\n",
      "16 17 18 19 6\n",
      "15 24 25 20 7\n",
      "14 23 22 21 8\n",
      "13 12 11 10 9\n"
     ]
    }
   ],
   "execution_count": 131
  },
  {
   "metadata": {},
   "cell_type": "markdown",
   "source": "# Я не понял, что в задании нет пропуска в правом верхнем углу, из-за этого потратил в 100 раз больше времени и в итоге пошел искать помощь в интернете, а оказалось все намного проще без пропуска числа",
   "id": "e46005a08df9f271"
  }
 ],
 "metadata": {
  "kernelspec": {
   "display_name": "Python 3",
   "language": "python",
   "name": "python3"
  },
  "language_info": {
   "codemirror_mode": {
    "name": "ipython",
    "version": 2
   },
   "file_extension": ".py",
   "mimetype": "text/x-python",
   "name": "python",
   "nbconvert_exporter": "python",
   "pygments_lexer": "ipython2",
   "version": "2.7.6"
  }
 },
 "nbformat": 4,
 "nbformat_minor": 5
}
