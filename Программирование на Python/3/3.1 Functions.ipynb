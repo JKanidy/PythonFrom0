{
 "cells": [
  {
   "cell_type": "code",
   "id": "initial_id",
   "metadata": {
    "collapsed": true,
    "ExecuteTime": {
     "end_time": "2025-01-22T11:09:11.417531Z",
     "start_time": "2025-01-22T11:09:11.413186Z"
    }
   },
   "source": [
    "def min2(a, b):\n",
    "    if a <= b:\n",
    "        return a\n",
    "    else:\n",
    "        return b\n",
    "m = min2(1, 2)\n",
    "m = min2(min2(1, 2), 3)\n",
    "print(m)"
   ],
   "outputs": [
    {
     "name": "stdout",
     "output_type": "stream",
     "text": [
      "1\n"
     ]
    }
   ],
   "execution_count": 3
  },
  {
   "metadata": {},
   "cell_type": "markdown",
   "source": "# Можно создавать функции с помощью def. Тут я создал функцию, которая берет минимум из двух чисел",
   "id": "e77529eeeba9fcb"
  },
  {
   "metadata": {
    "ExecuteTime": {
     "end_time": "2025-01-22T11:11:42.086228Z",
     "start_time": "2025-01-22T11:11:42.082509Z"
    }
   },
   "cell_type": "code",
   "source": [
    "def f(n):\n",
    "    return n * 10 + 5\n",
    "\n",
    "a = f(f(f(10)))\n",
    "print(a)"
   ],
   "id": "18f2664c8f6d0435",
   "outputs": [
    {
     "name": "stdout",
     "output_type": "stream",
     "text": [
      "10555\n"
     ]
    }
   ],
   "execution_count": 4
  },
  {
   "metadata": {
    "ExecuteTime": {
     "end_time": "2025-01-22T11:14:06.315921Z",
     "start_time": "2025-01-22T11:14:06.312293Z"
    }
   },
   "cell_type": "code",
   "source": [
    "def min(*a):\n",
    "    m = a[0]\n",
    "    for i in a:\n",
    "        if m > i:\n",
    "            m = i\n",
    "    return m\n",
    "\n",
    "print(min(1, 2, 3))"
   ],
   "id": "8407d7960eaf31e7",
   "outputs": [
    {
     "name": "stdout",
     "output_type": "stream",
     "text": [
      "1\n"
     ]
    }
   ],
   "execution_count": 6
  },
  {
   "metadata": {},
   "cell_type": "markdown",
   "source": "# С помощью *а можно вызывать функцию с неопределенным числом параметров, а также обращаться к этим параметрам с помощью индексов",
   "id": "c223e20f781018f5"
  },
  {
   "metadata": {
    "ExecuteTime": {
     "end_time": "2025-01-22T11:19:04.859544Z",
     "start_time": "2025-01-22T11:19:04.854880Z"
    }
   },
   "cell_type": "code",
   "source": [
    "def my_range(start, stop, step=1):\n",
    "    res = []\n",
    "    if step > 0:\n",
    "        x = start\n",
    "        while x < stop:\n",
    "            res += [x]\n",
    "            x += step\n",
    "    elif step < 0:\n",
    "        x = start\n",
    "        while x > stop:\n",
    "            res += [x]\n",
    "            x += step\n",
    "    return res\n",
    "\n",
    "print(my_range(1, 10, 2))"
   ],
   "id": "e280806cbf035f80",
   "outputs": [
    {
     "name": "stdout",
     "output_type": "stream",
     "text": [
      "[1, 3, 5, 7, 9]\n"
     ]
    }
   ],
   "execution_count": 11
  },
  {
   "metadata": {},
   "cell_type": "markdown",
   "source": "# Это функция, которая идентична стандартной функции range в питоне",
   "id": "e394e624489f0504"
  },
  {
   "metadata": {
    "ExecuteTime": {
     "end_time": "2025-01-22T11:39:35.085222Z",
     "start_time": "2025-01-22T11:39:35.081909Z"
    }
   },
   "cell_type": "code",
   "source": [
    "def append_zero(xs):\n",
    "    xs.append(0)\n",
    "\n",
    "a = []\n",
    "append_zero(a)\n",
    "print(a)"
   ],
   "id": "266fbf9a7ef1afae",
   "outputs": [
    {
     "name": "stdout",
     "output_type": "stream",
     "text": [
      "[0]\n"
     ]
    }
   ],
   "execution_count": 12
  },
  {
   "metadata": {
    "ExecuteTime": {
     "end_time": "2025-01-22T11:47:30.490821Z",
     "start_time": "2025-01-22T11:47:30.486191Z"
    }
   },
   "cell_type": "code",
   "source": [
    "def f(x):\n",
    "    if x <= -2:\n",
    "        return 1 - (x + 2)**2\n",
    "    elif x <= 2 and x > -2:\n",
    "        return -(x / 2)\n",
    "    else:\n",
    "        return (x - 2)**2 + 1\n",
    "\n",
    "print(f(4.5))"
   ],
   "id": "5ad2af98fc1b5de9",
   "outputs": [
    {
     "name": "stdout",
     "output_type": "stream",
     "text": [
      "7.25\n"
     ]
    }
   ],
   "execution_count": 13
  },
  {
   "metadata": {
    "ExecuteTime": {
     "end_time": "2025-01-22T12:21:40.683243Z",
     "start_time": "2025-01-22T12:21:40.678909Z"
    }
   },
   "cell_type": "code",
   "source": [
    "def modify_list(l):\n",
    "    for i in list(l):\n",
    "        if i % 2 == 1:\n",
    "            l.remove(i)\n",
    "    lst2 = list(l)\n",
    "    l.clear()\n",
    "    for j in lst2:\n",
    "        l.append(j // 2)\n",
    "        \n",
    "lst = [1, 3, 5, 7]\n",
    "print(modify_list(lst))\n",
    "print(lst)\n",
    "modify_list(lst)\n",
    "print(lst)  "
   ],
   "id": "415d7046082193ef",
   "outputs": [
    {
     "name": "stdout",
     "output_type": "stream",
     "text": [
      "None\n",
      "[]\n",
      "[]\n"
     ]
    }
   ],
   "execution_count": 42
  }
 ],
 "metadata": {
  "kernelspec": {
   "display_name": "Python 3",
   "language": "python",
   "name": "python3"
  },
  "language_info": {
   "codemirror_mode": {
    "name": "ipython",
    "version": 2
   },
   "file_extension": ".py",
   "mimetype": "text/x-python",
   "name": "python",
   "nbconvert_exporter": "python",
   "pygments_lexer": "ipython2",
   "version": "2.7.6"
  }
 },
 "nbformat": 4,
 "nbformat_minor": 5
}
