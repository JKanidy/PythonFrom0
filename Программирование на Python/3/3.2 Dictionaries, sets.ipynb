{
 "cells": [
  {
   "cell_type": "code",
   "id": "initial_id",
   "metadata": {
    "collapsed": true,
    "ExecuteTime": {
     "end_time": "2025-01-23T11:55:26.514817Z",
     "start_time": "2025-01-23T11:55:26.510346Z"
    }
   },
   "source": [
    "s = set()\n",
    "basket = {'apple', 'orange', 'apple', 'pear', 'orange', 'banana'}\n",
    "print(basket)\n",
    "'orange' in basket"
   ],
   "outputs": [
    {
     "name": "stdout",
     "output_type": "stream",
     "text": [
      "{'banana', 'pear', 'apple', 'orange'}\n"
     ]
    },
    {
     "data": {
      "text/plain": [
       "False"
      ]
     },
     "execution_count": 4,
     "metadata": {},
     "output_type": "execute_result"
    }
   ],
   "execution_count": 4
  },
  {
   "metadata": {
    "ExecuteTime": {
     "end_time": "2025-01-23T11:55:36.278794Z",
     "start_time": "2025-01-23T11:55:36.272810Z"
    }
   },
   "cell_type": "code",
   "source": "'python' in basket",
   "id": "7c6af5886337dea1",
   "outputs": [
    {
     "data": {
      "text/plain": [
       "False"
      ]
     },
     "execution_count": 5,
     "metadata": {},
     "output_type": "execute_result"
    }
   ],
   "execution_count": 5
  },
  {
   "metadata": {},
   "cell_type": "markdown",
   "source": "# В множестве может быть только один одинаковый объкет, остальные отсеиваются. Порядок элементов случайный (неупорядоченный список)",
   "id": "d11ffdec6d5663ad"
  },
  {
   "metadata": {
    "ExecuteTime": {
     "end_time": "2025-01-23T11:59:20.925470Z",
     "start_time": "2025-01-23T11:59:20.920958Z"
    }
   },
   "cell_type": "code",
   "source": [
    "s.add('tilt')\n",
    "print(s)\n",
    "s.remove('tilt')\n",
    "print(s)\n",
    "s.clear()\n",
    "print(s)"
   ],
   "id": "e48a8307f9466b86",
   "outputs": [
    {
     "name": "stdout",
     "output_type": "stream",
     "text": [
      "{'tilt'}\n",
      "set()\n",
      "set()\n"
     ]
    }
   ],
   "execution_count": 9
  },
  {
   "metadata": {},
   "cell_type": "markdown",
   "source": "# Можно добавлять элементы в множество, а также удалять их. С помощью функции clear можно очистить множество",
   "id": "e60ee029f108efa"
  },
  {
   "metadata": {
    "ExecuteTime": {
     "end_time": "2025-01-23T12:00:49.646428Z",
     "start_time": "2025-01-23T12:00:49.640444Z"
    }
   },
   "cell_type": "code",
   "source": [
    "basket = {'apple', 'orange', 'apple', 'pear', 'orange', 'banana'}\n",
    "for i in basket:\n",
    "    print(i)"
   ],
   "id": "3b7803f5249a15d9",
   "outputs": [
    {
     "name": "stdout",
     "output_type": "stream",
     "text": [
      "banana\n",
      "pear\n",
      "apple\n",
      "orange\n"
     ]
    }
   ],
   "execution_count": 10
  },
  {
   "metadata": {
    "ExecuteTime": {
     "end_time": "2025-01-23T12:02:52.183895Z",
     "start_time": "2025-01-23T12:02:52.179710Z"
    }
   },
   "cell_type": "code",
   "source": [
    "d = dict()\n",
    "print(d)\n",
    "b = {}\n",
    "print(b)"
   ],
   "id": "b17626ab3fe63fd2",
   "outputs": [
    {
     "name": "stdout",
     "output_type": "stream",
     "text": [
      "{}\n",
      "{}\n"
     ]
    }
   ],
   "execution_count": 12
  },
  {
   "metadata": {},
   "cell_type": "markdown",
   "source": "",
   "id": "b0e1fc1d59878ad4"
  },
  {
   "metadata": {},
   "cell_type": "markdown",
   "source": "# Создать словарь можно с помощью dict, а также просто с помощью пустых скобок",
   "id": "38185a88a42b71c2"
  },
  {
   "metadata": {
    "ExecuteTime": {
     "end_time": "2025-01-23T12:06:28.887016Z",
     "start_time": "2025-01-23T12:06:28.869919Z"
    }
   },
   "cell_type": "code",
   "source": [
    "dict = {'a': 1, 10: 2}\n",
    "print(dict['a'])\n",
    "print(dict[10])\n",
    "dict['a'] = 11\n",
    "print(dict['a'])\n",
    "del dict['a']\n",
    "print(dict['a'])"
   ],
   "id": "80d0815b1e7db969",
   "outputs": [
    {
     "name": "stdout",
     "output_type": "stream",
     "text": [
      "1\n",
      "2\n",
      "11\n"
     ]
    },
    {
     "ename": "KeyError",
     "evalue": "'a'",
     "output_type": "error",
     "traceback": [
      "\u001B[1;31m---------------------------------------------------------------------------\u001B[0m",
      "\u001B[1;31mKeyError\u001B[0m                                  Traceback (most recent call last)",
      "Cell \u001B[1;32mIn[18], line 7\u001B[0m\n\u001B[0;32m      5\u001B[0m \u001B[38;5;28mprint\u001B[39m(\u001B[38;5;28mdict\u001B[39m[\u001B[38;5;124m'\u001B[39m\u001B[38;5;124ma\u001B[39m\u001B[38;5;124m'\u001B[39m])\n\u001B[0;32m      6\u001B[0m \u001B[38;5;28;01mdel\u001B[39;00m \u001B[38;5;28mdict\u001B[39m[\u001B[38;5;124m'\u001B[39m\u001B[38;5;124ma\u001B[39m\u001B[38;5;124m'\u001B[39m]\n\u001B[1;32m----> 7\u001B[0m \u001B[38;5;28mprint\u001B[39m(\u001B[38;5;28;43mdict\u001B[39;49m\u001B[43m[\u001B[49m\u001B[38;5;124;43m'\u001B[39;49m\u001B[38;5;124;43ma\u001B[39;49m\u001B[38;5;124;43m'\u001B[39;49m\u001B[43m]\u001B[49m)\n",
      "\u001B[1;31mKeyError\u001B[0m: 'a'"
     ]
    }
   ],
   "execution_count": 18
  },
  {
   "metadata": {},
   "cell_type": "markdown",
   "source": "# Можно добавлять значение к определенному ключу, а также можно удалить ключ с помощью команды del",
   "id": "6c77bf7c61d2954c"
  },
  {
   "metadata": {},
   "cell_type": "markdown",
   "source": "# Словари можно изменять, элементы не имеют порядка, все ключи различны, ключи неизменяемы (то есть ими не могут быть, например, списки)",
   "id": "e3bc9f25ce6b7269"
  },
  {
   "metadata": {
    "ExecuteTime": {
     "end_time": "2025-01-23T12:12:27.352259Z",
     "start_time": "2025-01-23T12:12:27.345956Z"
    }
   },
   "cell_type": "code",
   "source": [
    "dict = {'C': 14, 'A': 12, 'T': 9}\n",
    "for i in dict:\n",
    "    print(i)\n",
    "for i in dict.keys():\n",
    "    print(i)\n",
    "\n",
    "for i in dict.values():\n",
    "    print(i)\n",
    "    \n",
    "for i, j in dict.items():\n",
    "    print(i, j)"
   ],
   "id": "c986faf17b360d6e",
   "outputs": [
    {
     "name": "stdout",
     "output_type": "stream",
     "text": [
      "C\n",
      "A\n",
      "T\n",
      "C\n",
      "A\n",
      "T\n",
      "14\n",
      "12\n",
      "9\n",
      "C 14\n",
      "A 12\n",
      "T 9\n"
     ]
    }
   ],
   "execution_count": 25
  },
  {
   "metadata": {},
   "cell_type": "markdown",
   "source": "# С помощью цикла for можно перебирать ключи или значения из словаря с помощью функций keys или values. Также можно получить пару ключ-значение с помощью функции items",
   "id": "ecdb99f96d6ceb9f"
  },
  {
   "metadata": {},
   "cell_type": "markdown",
   "source": "# Также у ключа может быть несколько значений, если ключу передать список значений",
   "id": "79031cbe74f599af"
  },
  {
   "metadata": {
    "ExecuteTime": {
     "end_time": "2025-01-23T15:07:06.968127Z",
     "start_time": "2025-01-23T15:07:06.963316Z"
    }
   },
   "cell_type": "code",
   "source": [
    "def update_dictionary(d, key, value):\n",
    "    if key in d:\n",
    "        d[key].append(value)\n",
    "    if key not in d:\n",
    "        if 2 * key in d:\n",
    "            d[2 * key].append(value)\n",
    "        if 2 * key not in d:\n",
    "            d[2 * key] = [value]\n",
    "        \n",
    "\n",
    "d = {}\n",
    "print(update_dictionary(d, 1, -1))  # None\n",
    "print(d)                            # {2: [-1]}\n",
    "update_dictionary(d, 2, -2)\n",
    "print(d)                            # {2: [-1, -2]}\n",
    "update_dictionary(d, 1, -3)\n",
    "print(d)                            # {2: [-1, -2, -3]}"
   ],
   "id": "a6f7d4f7e91737b3",
   "outputs": [
    {
     "name": "stdout",
     "output_type": "stream",
     "text": [
      "None\n",
      "{2: [-1]}\n",
      "{2: [-1, -2]}\n",
      "{2: [-1, -2, -3]}\n"
     ]
    }
   ],
   "execution_count": 154
  },
  {
   "metadata": {},
   "cell_type": "markdown",
   "source": "# Я не верю что так долго это делал, нужно было просто поменять два условия местами и все стало отлично",
   "id": "db08ab493bcfd59f"
  },
  {
   "metadata": {
    "ExecuteTime": {
     "end_time": "2025-01-23T15:40:33.472655Z",
     "start_time": "2025-01-23T15:40:30.693557Z"
    }
   },
   "cell_type": "code",
   "source": [
    "a = input().lower().split()\n",
    "dict = {}\n",
    "\n",
    "for i in a:\n",
    "    if i in dict:\n",
    "        dict[i] += 1 \n",
    "    if i not in dict:\n",
    "        dict[i] = 1\n",
    "\n",
    "for j in dict:\n",
    "    print(j, dict[j])"
   ],
   "id": "7773b3f8ab4c6bc8",
   "outputs": [
    {
     "name": "stdout",
     "output_type": "stream",
     "text": [
      "aa 2\n",
      "bb 2\n"
     ]
    }
   ],
   "execution_count": 196
  },
  {
   "metadata": {
    "ExecuteTime": {
     "end_time": "2025-01-23T17:09:29.772037Z",
     "start_time": "2025-01-23T17:09:27.544750Z"
    }
   },
   "cell_type": "code",
   "source": [
    "def f(x):\n",
    "    return x + 1\n",
    "\n",
    "a = int(input())\n",
    "dict = {}\n",
    "lst = []\n",
    "n = 0\n",
    "\n",
    "while n < a:\n",
    "    b = int(input())\n",
    "    lst.append(b)\n",
    "    n += 1\n",
    "\n",
    "for i in lst:\n",
    "    if i not in dict:\n",
    "        dict[i] = f(i)\n",
    "    print(dict[i])"
   ],
   "id": "9f5b03e2283a2bd9",
   "outputs": [
    {
     "name": "stdout",
     "output_type": "stream",
     "text": [
      "5\n",
      "4\n",
      "3\n",
      "2\n",
      "2\n"
     ]
    }
   ],
   "execution_count": 256
  }
 ],
 "metadata": {
  "kernelspec": {
   "display_name": "Python 3",
   "language": "python",
   "name": "python3"
  },
  "language_info": {
   "codemirror_mode": {
    "name": "ipython",
    "version": 2
   },
   "file_extension": ".py",
   "mimetype": "text/x-python",
   "name": "python",
   "nbconvert_exporter": "python",
   "pygments_lexer": "ipython2",
   "version": "2.7.6"
  }
 },
 "nbformat": 4,
 "nbformat_minor": 5
}
