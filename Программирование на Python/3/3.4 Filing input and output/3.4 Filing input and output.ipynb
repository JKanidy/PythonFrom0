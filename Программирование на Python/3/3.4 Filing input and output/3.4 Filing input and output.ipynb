{
 "cells": [
  {
   "cell_type": "code",
   "execution_count": null,
   "id": "initial_id",
   "metadata": {
    "collapsed": true
   },
   "outputs": [],
   "source": [
    "inf = open('file1.txt', 'r')\n",
    "s1 = inf.readline()\n",
    "s2 = inf.readline()\n",
    "inf.close()"
   ]
  },
  {
   "metadata": {},
   "cell_type": "markdown",
   "source": "# Можно не указывать параметр 'r' (он обозначает, что файл открывается в режиме чтения), так как по стандарту файл будет открываться в таком виде. Переменной s1 мы присваиваем первую строчку файла, s2 - вторую. Далее закрывает файл",
   "id": "f20db5daedc171d0"
  },
  {
   "metadata": {},
   "cell_type": "code",
   "outputs": [],
   "execution_count": null,
   "source": [
    "with open('file2.txt') as inf:\n",
    "    s1 = inf.readline()\n",
    "    s2 = inf.readline()"
   ],
   "id": "4f8c825d9ab09b57"
  },
  {
   "metadata": {},
   "cell_type": "markdown",
   "source": "# Это специальная конструкция для работы с файлами, в конце файл уже закрыт",
   "id": "de1eb826957ec010"
  },
  {
   "metadata": {},
   "cell_type": "code",
   "outputs": [],
   "execution_count": null,
   "source": "s = inf.readline().strip()",
   "id": "fc3b66a74f94c18d"
  },
  {
   "metadata": {},
   "cell_type": "markdown",
   "source": "# strip убирает все служебные символы в строке по типу \\n, и возвращает только обычные символы (например, \\t abc \\n вернет abc)",
   "id": "240ccafa0d161cbc"
  },
  {
   "metadata": {},
   "cell_type": "code",
   "outputs": [],
   "execution_count": null,
   "source": [
    "import os\n",
    "os.path.join('.', 'dirname', 'filename.txt')"
   ],
   "id": "ec658b17c4c8369"
  },
  {
   "metadata": {},
   "cell_type": "markdown",
   "source": "# Этот код создаст путь './dirname/filename.txt'",
   "id": "c34cd7d6ce2a69f5"
  },
  {
   "metadata": {},
   "cell_type": "code",
   "outputs": [],
   "execution_count": null,
   "source": [
    "with open('input.txt') as inf:\n",
    "    for line in inf:\n",
    "        line = line.strip()\n",
    "        print(line)"
   ],
   "id": "dd694f040bb6d794"
  },
  {
   "metadata": {},
   "cell_type": "markdown",
   "source": "# Перебираем все строки и удаляем из них служебные символы с помощью цикла for и функции strip",
   "id": "e39acc98269bd547"
  },
  {
   "metadata": {},
   "cell_type": "code",
   "outputs": [],
   "execution_count": null,
   "source": [
    "ouf = open('fiLe.txt', 'w')\n",
    "ouf.write('text\\n')\n",
    "ouf.write(str(11))\n",
    "ouf.close()"
   ],
   "id": "a55e53df9eead9f1"
  },
  {
   "metadata": {},
   "cell_type": "markdown",
   "source": "# Таким образом можно записывать в файл текст (для интовых значений нужно делать преобразование в строку) ",
   "id": "1103379814aec79b"
  },
  {
   "metadata": {},
   "cell_type": "code",
   "outputs": [],
   "execution_count": null,
   "source": [
    "with open('fiLe.txt', 'w') as ouf:\n",
    "    ouf.write('text\\n')\n",
    "    ouf.write(str(11))"
   ],
   "id": "3ac0d166d5ee6547"
  },
  {
   "metadata": {},
   "cell_type": "markdown",
   "source": "# Аналогично чтению, в конце файл уже закрыт",
   "id": "f115696794bd9cdf"
  },
  {
   "metadata": {
    "ExecuteTime": {
     "end_time": "2025-02-01T10:14:30.717449Z",
     "start_time": "2025-02-01T10:14:30.711077Z"
    }
   },
   "cell_type": "code",
   "source": [
    "abclist = []\n",
    "numberlst = []\n",
    "a = ''\n",
    "with open('3.4 Filing input and output/dataset_3363_2.txt', 'r') as inf:\n",
    "    line = inf.readline().strip()\n",
    "    for i in line:\n",
    "        if i >= 'A':\n",
    "            if a != '':\n",
    "                numberlst.append(a)\n",
    "            a = ''\n",
    "            abclist.append(i)\n",
    "        if i < 'A':\n",
    "            a = str(a) + i\n",
    "\n",
    "if len(abclist) != len(numberlst):\n",
    "    numberlst.append(a)\n",
    "        \n",
    "with open('3.4 Filing input and output/output2.txt', 'w') as ouf:\n",
    "    for i in range(len(abclist)):\n",
    "        ouf.write(abclist[i] * int(numberlst[i]))"
   ],
   "id": "ca7e09d8a0e600d0",
   "outputs": [],
   "execution_count": 49
  },
  {
   "metadata": {},
   "cell_type": "markdown",
   "source": "# К этой задаче включены файлы 'output2.txt' и 'dataset_3363_2.txt'",
   "id": "267bf02e2ace41fb"
  },
  {
   "metadata": {
    "ExecuteTime": {
     "end_time": "2025-02-01T10:14:26.340769Z",
     "start_time": "2025-02-01T10:14:26.327804Z"
    }
   },
   "cell_type": "code",
   "source": [
    "lst = []\n",
    "lowerlst = []\n",
    "numberlst = []\n",
    "with open('3.4 Filing input and output/dataset_3363_3.txt', 'r') as inf:\n",
    "    for line in inf:\n",
    "        line = line.strip().split()\n",
    "        for i in line:\n",
    "            lst.append(i)\n",
    "\n",
    "for i in lst:\n",
    "    lowerlst.append(i.lower())\n",
    "\n",
    "for i in lowerlst:\n",
    "    numberlst.append(lowerlst.count(i))\n",
    "\n",
    "a = 0\n",
    "for i in numberlst:\n",
    "    if i > a:\n",
    "        a = i\n",
    "\n",
    "with open('3.4 Filing input and output/output3.txt', 'w') as ouf:\n",
    "    ouf.write(lowerlst[numberlst.index(a)])\n",
    "    ouf.write(' ')\n",
    "    ouf.write(str(a))\n"
   ],
   "id": "ec06eb712033caf6",
   "outputs": [],
   "execution_count": 48
  },
  {
   "metadata": {},
   "cell_type": "markdown",
   "source": "# К этой задаче включены файлы 'output3.txt' и 'dataset_3363_3.txt'",
   "id": "ef278bc3a62a1b33"
  },
  {
   "metadata": {
    "ExecuteTime": {
     "end_time": "2025-02-01T10:14:16.689262Z",
     "start_time": "2025-02-01T10:14:16.676414Z"
    }
   },
   "cell_type": "code",
   "source": [
    "lst = []\n",
    "lst2 = []\n",
    "namelst = []\n",
    "numberlst = []\n",
    "with open('3.4 Filing input and output/dataset_3363_4.txt', 'r') as inf:\n",
    "    for line in inf:\n",
    "        line = line.strip().split(';')\n",
    "        for i in line:\n",
    "            lst.append(i)\n",
    "    \n",
    "        for i in line:\n",
    "            if i >= 'A':\n",
    "                namelst.append(i)\n",
    "            if i < 'A':\n",
    "                numberlst.append(i)\n",
    "\n",
    "with open('output4.txt', 'w') as ouf:\n",
    "    a = 0\n",
    "    n = 0\n",
    "    for i in numberlst:\n",
    "        a += int(i)\n",
    "        n += 1\n",
    "        if n % 3 == 0:\n",
    "            ouf.write(str(round((a / 3), 9)))\n",
    "            ouf.write('\\n')\n",
    "            a = 0\n",
    "            n = 0\n",
    "\n",
    "with open('output4.txt', 'r') as inf:\n",
    "    for line in inf:\n",
    "        line = line.strip().split(';')\n",
    "        for i in line:\n",
    "            lst2.append(i)\n",
    "\n",
    "with open('3.4 Filing input and output/output4.txt', 'a') as ouf:\n",
    "    a = 0\n",
    "    b = 0\n",
    "    c = 0\n",
    "    n = 1\n",
    "\n",
    "    for i in numberlst:\n",
    "        if n % 3 == 1:\n",
    "            a += float(i)\n",
    "            n += 1\n",
    "            \n",
    "        elif n % 3 == 2:\n",
    "            b += float(i)\n",
    "            n += 1\n",
    "            \n",
    "        elif n % 3 == 0:\n",
    "            c += float(i)\n",
    "            n += 1\n",
    "\n",
    "    ouf.write(str(round((a / ((n - 1) / 3)), 9)))\n",
    "    ouf.write(' ')\n",
    "    ouf.write(str(round((b / ((n - 1) / 3)), 9)))\n",
    "    ouf.write(' ')\n",
    "    ouf.write(str(round((c / ((n - 1) / 3)), 9)))"
   ],
   "id": "e625cc6d2f7f57e2",
   "outputs": [],
   "execution_count": 47
  },
  {
   "metadata": {},
   "cell_type": "markdown",
   "source": "# Это тильт конкретный был но я решил в миллион строк кода и непонятных никому кроме меня формул в конце",
   "id": "84df9c70b8179412"
  }
 ],
 "metadata": {
  "kernelspec": {
   "display_name": "Python 3",
   "language": "python",
   "name": "python3"
  },
  "language_info": {
   "codemirror_mode": {
    "name": "ipython",
    "version": 2
   },
   "file_extension": ".py",
   "mimetype": "text/x-python",
   "name": "python",
   "nbconvert_exporter": "python",
   "pygments_lexer": "ipython2",
   "version": "2.7.6"
  }
 },
 "nbformat": 4,
 "nbformat_minor": 5
}
